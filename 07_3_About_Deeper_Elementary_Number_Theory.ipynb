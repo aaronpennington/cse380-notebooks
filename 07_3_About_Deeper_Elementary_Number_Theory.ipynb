{
  "nbformat": 4,
  "nbformat_minor": 0,
  "metadata": {
    "colab": {
      "name": " 07_3_About_Deeper_Elementary_Number_Theory.ipynb",
      "provenance": [],
      "authorship_tag": "ABX9TyNCszEDhr4Gkb1LILMNegWc",
      "include_colab_link": true
    },
    "kernelspec": {
      "name": "python3",
      "display_name": "Python 3.9.0 64-bit",
      "metadata": {
        "interpreter": {
          "hash": "5cb4c5a19cdfdb0bed0268ea814c514807ee9e7440f691fbb4fb5e0f945f1cd4"
        }
      }
    }
  },
  "cells": [
    {
      "cell_type": "markdown",
      "metadata": {
        "id": "view-in-github",
        "colab_type": "text"
      },
      "source": [
        "<a href=\"https://colab.research.google.com/github/byui-cse/cse380-notebooks/blob/master/07_3_About_Deeper_Elementary_Number_Theory.ipynb\" target=\"_parent\"><img src=\"https://colab.research.google.com/assets/colab-badge.svg\" alt=\"Open In Colab\"/></a>"
      ]
    },
    {
      "cell_type": "markdown",
      "metadata": {
        "id": "fKBSJ5Hh6UMv"
      },
      "source": [
        "# About Deeper Elementary Number Theory\n",
        "## Class Directed Learning\n",
        "### Due: Wednesday, 17 February 2021, 11:59 pm"
      ]
    },
    {
      "cell_type": "markdown",
      "metadata": {
        "id": "yx-XMrWE6hEw"
      },
      "source": [
        "## Read and Ponder\n",
        "https://byui-cse.github.io/cse380-course/about-deeper-elementary-number-theory.pdf\n",
        "\n",
        "Put your answers in cells you will add below.\n",
        "\n",
        "Above and beyond behavior: Incorporate the material in the PDF into this notebook."
      ]
    },
    {
      "source": [
        "# Explore Another Proof\n",
        "\n",
        "Step 7 (\"There are N cyclic permutations of the N beads on a string\") implicitly uses the hypothesis. \n",
        "\n",
        "Best explained by this source: \n",
        "> \"So, **when p is prime**, each necklace with at least two bead colors corresponds to exactly p different strands—and each strand corresponds to exactly one necklace\" https://mathlesstraveled.com/2017/12/12/fermats-little-theorem-proof-by-necklaces/\n",
        "\n",
        "Khan Academy also has a video demonstrating this theorem using beads: https://www.khanacademy.org/computing/computer-science/cryptography/random-algorithms-probability/v/fermat-s-little-theorem-visualization"
      ],
      "cell_type": "markdown",
      "metadata": {}
    },
    {
      "source": [
        "# Explore Primes and Probability Further"
      ],
      "cell_type": "markdown",
      "metadata": {}
    },
    {
      "cell_type": "code",
      "execution_count": 33,
      "metadata": {},
      "outputs": [
        {
          "output_type": "stream",
          "name": "stdout",
          "text": [
            "0.04289328216328413\n"
          ]
        }
      ],
      "source": [
        "from math import log\n",
        "\n",
        "def prime_num_theorem(n):\n",
        "    return n / log(n) # The prime number theorem to get the number of primes up to integer n\n",
        "\n",
        "def p(k):\n",
        "    return prime_num_theorem(10**k) - prime_num_theorem(10**(k-1)) # This is the number of primes with k digits (our event space)\n",
        "\n",
        "def n(k):\n",
        "    return 9*(10**(k-1)) # This is the number of ints with k digits (our sample space)\n",
        "\n",
        "k = 10\n",
        "print(p(k) / n(k)) # Gives us the probability (number of primes with k digits divided by total number of ints with k digits)"
      ]
    },
    {
      "source": [
        "Some sources we found to verify this solution: \n",
        "\n",
        "https://www.thoughtco.com/probability-of-randomly-choosing-prime-number-3126592\n",
        "\n",
        "https://arxiv.org/ftp/arxiv/papers/1709/1709.09963.pdf\n",
        "\n",
        "https://www.sciencedirect.com/science/article/pii/S0898122104840719/pdf?md5=b62dffc1e6323fe9c01871d72eaedf2f&pid=1-s2.0-S0898122104840719-main.pdf&_valck=1\n"
      ],
      "cell_type": "markdown",
      "metadata": {}
    },
    {
      "cell_type": "code",
      "execution_count": null,
      "metadata": {},
      "outputs": [],
      "source": []
    }
  ]
}