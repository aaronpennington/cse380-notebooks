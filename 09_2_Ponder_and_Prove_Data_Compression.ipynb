{
  "nbformat": 4,
  "nbformat_minor": 0,
  "metadata": {
    "colab": {
      "name": "09_2_Ponder_and_Prove_Data_Compression.ipynb",
      "provenance": [],
      "include_colab_link": true
    },
    "kernelspec": {
      "name": "python3",
      "display_name": "Python 3.9.0 64-bit",
      "metadata": {
        "interpreter": {
          "hash": "5cb4c5a19cdfdb0bed0268ea814c514807ee9e7440f691fbb4fb5e0f945f1cd4"
        }
      }
    }
  },
  "cells": [
    {
      "cell_type": "markdown",
      "metadata": {
        "id": "view-in-github",
        "colab_type": "text"
      },
      "source": [
        "<a href=\"https://colab.research.google.com/github/byui-cse/cse380-notebooks/blob/master/09_2_Ponder_and_Prove_Data_Compression.ipynb\" target=\"_parent\"><img src=\"https://colab.research.google.com/assets/colab-badge.svg\" alt=\"Open In Colab\"/></a>"
      ]
    },
    {
      "cell_type": "markdown",
      "metadata": {
        "id": "1rG4k7VvQ2WT"
      },
      "source": [
        "# Ponder and Prove Data Compression\n",
        "#### Due: Saturday, 6 March 2021, 11:59 pm."
      ]
    },
    {
      "cell_type": "markdown",
      "metadata": {
        "id": "W0WxE3IAQ2WU"
      },
      "source": [
        "# DONE Explore Huffman Trees and Huffman Codes\n"
      ]
    },
    {
      "cell_type": "markdown",
      "metadata": {
        "id": "w2vby9erSjOv"
      },
      "source": [
        "Your task is examine how to compress a *special piece of information* as compactly as possible, and **calculate various compression ratios**.\n",
        "\n",
        "Recall that the **compression ratio** of a variable-length encoding like Huffman encoding is the percentage $100(f - v)/f$, where $f$ is the number of bits per symbol of the smallest **fixed**-length encoding, and $v$ is the average number of bits per symbol with the variable-length encoding.\n",
        "\n",
        "For example, if there were 9 different symbols in a message, $f=4$ is the number of bits of the smallest fixed-length encoding, because $2^3 = 8$ (not enough for $9$) and $2^4 = 16$ (enough and to spare). If the variable-length encoding of the message had $v=3.12$, the compression ratio would be $100(4 - 3.12)/4 \\approx 22\\%$.\n",
        "\n",
        "Note that calculating the average number of bits per symbol is not strictly necessary. That's because an alternate and equivalent way is to calculate $100(ft - vt)/ft$, where $ft$ is the **total** number of bits encoded with the fixed encoding, and $vt$ is the **total** number of bits encoded with the variable-length encoding.\n",
        "\n",
        "The *special piece of information* to be compressed is a list of the first ten million primes. This is a list that starts\n",
        "\n",
        "|    |\n",
        "|----|\n",
        "|  2 |\n",
        "|  3 |\n",
        "|  5 |\n",
        "|  7 |\n",
        "| 11 |\n",
        "| 13 |\n",
        "| 17 |\n",
        "| 19 |\n",
        "| 23 |\n",
        "| 29 |\n",
        "\n",
        "  and ends\n",
        "\n",
        "|           |\n",
        "|-----------|\n",
        "| 179424551 |\n",
        "| 179424571 |\n",
        "| 179424577 |\n",
        "| 179424601 |\n",
        "| 179424611 |\n",
        "| 179424617 |\n",
        "| 179424629 |\n",
        "| 179424667 |\n",
        "| 179424671 |\n",
        "| 179424673 |\n",
        "\n",
        "As ASCII text stored in a file with one prime per line, the size of this data file is slightly over 89 megabytes. The goal is to compress this down to just over 5 megabytes (5589056 bytes, to be exact). That's a 94% compression ratio!\n",
        "\n",
        "Standard compression tools can only get about a 73% compression ratio for this ASCII data. A more clever approach is needed. Instead of compressing the list of prime numbers, compress a list of the *gaps* between them!\n",
        "\n",
        "It doesn't save much, just the unique (occurring only once) gap size of 1 between 2 and 3, but in the spirit of de Polignac's conjecture that every *even* number appears infinitely often as a gap between consecutive primes, just consider the even-sized gaps. The result will be a list that starts with 2 (the difference between 5 and 3), 2 (the difference between 7 and 5), 4 (the difference between 11 and 7), 2 (the difference between 13 and 11), 4 (the difference between 17 and 13), 2 (the difference between 19 and 17), 4 (the difference between 23 and 19), and 6 (the difference between 29 and 23).\n",
        "\n",
        "Generating this data is the first task. The algorithm for doing so is very straightforward:\n",
        "\n",
        "1. Find the gaps between consecutive odd primes.\n",
        "2. Store these gaps as a list of even numbers.\n",
        "\n",
        "Tabulating the results, the first ten gaps and the last ten gaps are as follows, where the numbers after the equals signs are the gaps to list:\n",
        "\n",
        "|                 |\n",
        "|-----------------|\n",
        "|  5  -   3  =  2 |\n",
        "|  7  -   5  =  2 |\n",
        "| 11  -   7  =  4 |\n",
        "| 13  -  11  =  2 |\n",
        "| 17  -  13  =  4 |\n",
        "| 19  -  17  =  2 |\n",
        "| 23  -  19  =  4 |\n",
        "| 29  -  23  =  6 |\n",
        "| 31  -  29  =  2 |\n",
        "| 37  -  31  =  6 |\n",
        "\n",
        "|                                |\n",
        "|--------------------------------|\n",
        "| 179424551  -  179424533  =  18 |\n",
        "| 179424571  -  179424551  =  20 |\n",
        "| 179424577  -  179424571  =   6 |\n",
        "| 179424601  -  179424577  =  24 |\n",
        "| 179424611  -  179424601  =  10 |\n",
        "| 179424617  -  179424611  =   6 |\n",
        "| 179424629  -  179424617  =  12 |\n",
        "| 179424667  -  179424629  =  38 |\n",
        "| 179424671  -  179424667  =   4 |\n",
        "| 179424673  -  179424671  =   2 |\n",
        "\n",
        "As a correctness check, see if your generated list of gaps has length 9999998.\n",
        "\n",
        "The next step is to count how many times each gap size occurs, so that for the Huffman encoding scheme, the larger the frequency of occurrence, the smaller the number of bits encoding that gap size.\n",
        "\n",
        "As a correctness check, here are the first ten and the last ten gap counts:\n",
        "\n",
        "|  Gap | Count   |\n",
        "|------|---------|\n",
        "|    2 |  738597 |\n",
        "|    4 |  738717 |\n",
        "|    6 | 1297540 |\n",
        "|    8 |  566151 |\n",
        "|   10 |  729808 |\n",
        "|   12 |  920661 |\n",
        "|   14 |  503524 |\n",
        "|   16 |  371677 |\n",
        "|   18 |  667734 |\n",
        "|   20 |  354267 |\n",
        "|      |         |\n",
        "|  190 |       1 |\n",
        "|  192 |       3 |\n",
        "|  194 |       1 |\n",
        "|  196 |       1 |\n",
        "|  198 |       6 |\n",
        "|  202 |       2 |\n",
        "|  204 |       3 |\n",
        "|  210 |       4 |\n",
        "|  220 |       1 |\n",
        "|  222 |       1 |\n",
        "\n",
        "Note two things from these partial gap counts:\n",
        "\n",
        "1. Small even numbers (< 100) are well represented, larger ones (< 1000) less so.\n",
        "2. Ten million primes aren't enough to have *every* even number represented; for example, 200, 206, 208, 212, 214, 216, and 218 do not appear even once.\n"
      ]
    },
    {
      "cell_type": "code",
      "execution_count": 28,
      "metadata": {},
      "outputs": [
        {
          "output_type": "stream",
          "name": "stdout",
          "text": [
            "Requirement already satisfied: pyprimesieve in c:\\users\\aaron\\appdata\\local\\programs\\python\\python39\\lib\\site-packages (0.1.6)\n",
            "WARNING: You are using pip version 20.2.3; however, version 21.0.1 is available.\n",
            "You should consider upgrading via the 'c:\\users\\aaron\\appdata\\local\\programs\\python\\python39\\python.exe -m pip install --upgrade pip' command.\n"
          ]
        }
      ],
      "source": [
        "!pip install pyprimesieve"
      ]
    },
    {
      "cell_type": "code",
      "execution_count": 57,
      "metadata": {},
      "outputs": [
        {
          "output_type": "stream",
          "name": "stdout",
          "text": [
            "[2, 4, 2, 4, 2, 4, 6, 2, 6, 4]\nTrue\n(2, 738597)\n(4, 738717)\n(6, 1297540)\n(8, 566151)\n(10, 729808)\n(12, 920661)\n(14, 503524)\n(16, 371677)\n(18, 667734)\n(20, 354267)\n(22, 307230)\n(24, 453215)\n(26, 211203)\n(28, 229177)\n(30, 398713)\n(32, 123123)\n(34, 129043)\n(36, 206722)\n(38, 94682)\n(40, 111546)\n(42, 159956)\n(44, 64866)\n(46, 54931)\n(48, 93693)\n(50, 52183)\n(52, 38800)\n(54, 64157)\n(56, 32224)\n(58, 27985)\n(60, 55305)\n(62, 16763)\n(64, 17374)\n(66, 30960)\n(68, 12368)\n(70, 17475)\n(72, 17255)\n(74, 8540)\n(76, 7253)\n(78, 13758)\n(80, 6760)\n(82, 4791)\n(84, 9818)\n(86, 3411)\n(88, 3454)\n(90, 7056)\n(92, 2259)\n(94, 2058)\n(96, 3544)\n(98, 1831)\n(100, 1923)\n(102, 2374)\n(104, 1168)\n(106, 933)\n(108, 1634)\n(110, 941)\n(112, 711)\n(114, 1125)\n(116, 439)\n(118, 433)\n(120, 948)\n(122, 287)\n(124, 318)\n(126, 533)\n(128, 183)\n(130, 211)\n(132, 301)\n(134, 128)\n(136, 100)\n(138, 210)\n(140, 140)\n(142, 90)\n(144, 123)\n(146, 46)\n(148, 67)\n(150, 94)\n(152, 52)\n(154, 43)\n(156, 57)\n(158, 19)\n(160, 27)\n(162, 27)\n(164, 20)\n(166, 9)\n(168, 25)\n(170, 18)\n(172, 4)\n(174, 10)\n(176, 11)\n(178, 12)\n(180, 10)\n(182, 5)\n(184, 4)\n(186, 3)\n(188, 1)\n(190, 1)\n(192, 3)\n(194, 1)\n(196, 1)\n(198, 6)\n(202, 2)\n(204, 3)\n(210, 4)\n(220, 1)\n(222, 1)\n"
          ]
        }
      ],
      "source": [
        "# Generate list of gaps\n",
        "import pyprimesieve\n",
        "from collections import Counter\n",
        "tmp = pyprimesieve.primes_nth(10000000)\n",
        "primes = pyprimesieve.primes(tmp+1)\n",
        "gaps = [*map(lambda i:primes[i]-primes[i-1],range(2,10000000))]\n",
        "\n",
        "# sanity checks:\n",
        "print(gaps[1:11])\n",
        "print(len(gaps) == 9999998)\n",
        "\n",
        "# Get frequencies of gap sizes\n",
        "gap_freq = Counter(gaps)\n",
        "gap_freq_items = sorted(gap_freq.items())\n",
        "for i in gap_freq_items:\n",
        "    print(i)"
      ]
    },
    {
      "cell_type": "markdown",
      "metadata": {
        "id": "7CUIw8_k03JJ"
      },
      "source": [
        "# DONE Determine Exact Size of Data to be Compressed\n"
      ]
    },
    {
      "cell_type": "markdown",
      "metadata": {
        "id": "wB4sXf0X09Gv"
      },
      "source": [
        "Without actually doing it, imagine creating an ASCII file containing the first ten million primes, represented in decimal, one prime per line. Calculate the size of this file, so you can show an exceptional compression ratio from it (see below).\n",
        "\n",
        "Using a binary encoding instead of ASCII, each prime requires 32 bits (4 bytes), so the size of a binary file is easily determined.\n",
        "\n",
        "Using a fixed-width encoding of the gap counts, however, requires knowing how many different gap sizes there are, after which the calculation is straightforward."
      ]
    },
    {
      "cell_type": "code",
      "execution_count": 30,
      "metadata": {},
      "outputs": [],
      "source": [
        "from math import log10, floor\n",
        "\n",
        "# The number of digits in an integer, plus 1 for the newline character. \n",
        "def line_size(n):\n",
        "    return floor(log10(n)) + 1"
      ]
    },
    {
      "cell_type": "code",
      "execution_count": 48,
      "metadata": {},
      "outputs": [
        {
          "output_type": "stream",
          "name": "stdout",
          "text": [
            "File size in Megabytes: 89.15371894836426\n"
          ]
        }
      ],
      "source": [
        "total_size = sum(map(lambda p: line_size(p), primes))\n",
        "\n",
        "total_size_in_bits = total_size * 8\n",
        "print(\"File size in Megabytes: \" + str((total_size + 10 ** 7) / 2 ** 20))"
      ]
    },
    {
      "cell_type": "markdown",
      "metadata": {
        "id": "9HZChUyC09tJ"
      },
      "source": [
        "# DONE Use Functional Python\n"
      ]
    },
    {
      "cell_type": "markdown",
      "metadata": {
        "id": "j7vG1XqY1CaV"
      },
      "source": [
        "You are encouraged to use the [anytree](https://pypi.org/project/anytree) Python library, which has a nice exporter by way of which you can graphically view trees. (You may recall using this in DM1, and thus know that **anytree** depends on [graphviz](https://graphviz.org), which you also used.)\n",
        "\n",
        "This library uses the object-oriented features of Python to create and visualize trees. You are encouraged to use the functional features of Python as much as possible, achieving your results not by using some existing third-party libraries for building Huffman Trees and Codes, but writing your own code as cleanly and elegantly as you can."
      ]
    },
    {
      "cell_type": "code",
      "execution_count": 32,
      "metadata": {},
      "outputs": [],
      "source": [
        "\n",
        "from anytree import Node, RenderTree, PreOrderIter, Walker\n",
        "from anytree.util import leftsibling, rightsibling\n",
        "from anytree.exporter.dotexporter import DotExporter\n",
        "from collections import Counter\n",
        "from queue import PriorityQueue\n",
        "from math import ceil, floor, log\n",
        "from sympy import primerange\n",
        "\n",
        "def realprimes_up_to(n):\n",
        "  return list(primerange(4, n))\n",
        "\n",
        "def get_list_of_gaps(pl):\n",
        "  gaps_list = list(map(lambda i: pl[i] - pl[i - 1], range(1, len(pl))))\n",
        "  gaps_list = [2] + gaps_list # [2] for the gap between 3 and 5\n",
        "  return gaps_list\n",
        "\n",
        "class GapNode(Node):\n",
        "  def __lt__(self, other):\n",
        "    return self.count < other.count\n",
        "\n",
        "node_counter = 0\n",
        "def next_node_name():\n",
        "  global node_counter\n",
        "  name = 'gn' + str(node_counter)\n",
        "  node_counter += 1\n",
        "  return name\n",
        "\n",
        "def new_node(gp, ct):\n",
        "  return GapNode(next_node_name(), gap = gp, count = ct)\n",
        "\n",
        "def new_internal_node(left, right):\n",
        "  return GapNode(next_node_name(), children = [left, right],\n",
        "                 gap = 0, count = left.count + right.count)\n",
        "\n",
        "def make_huffman_tree(gaps_list):\n",
        "  gap_dict = Counter(gaps_list)\n",
        "  q = PriorityQueue()\n",
        "  for key, val in gap_dict.items():\n",
        "    q.put(new_node(key, val))\n",
        "\n",
        "  while q.qsize() > 1:\n",
        "    left = q.get()\n",
        "    right = q.get()\n",
        "    q.put(new_internal_node(left, right))\n",
        "\n",
        "  return q.get()\n",
        "\n",
        "def get_codes(root):\n",
        "  leaves = [node for node in PreOrderIter(root, filter_=lambda n: not n.children)]\n",
        "  codes = {}\n",
        "  w = Walker()\n",
        "  for leaf in leaves:\n",
        "    path = w.walk(leaf, root)[0]\n",
        "    code = ''\n",
        "    for node in path:\n",
        "      code = ('1' if leftsibling(node) else '0') + code\n",
        "    codes[leaf.gap] = tuple([code, leaf.count])\n",
        "  return codes\n",
        "\n",
        "def compression_ratio(f, v):\n",
        "  return 100 * (f - v) / f\n",
        "\n",
        "def get_encoded_size(codes):\n",
        "  return sum([len(code) * count for gap, (code, count) in codes.items()])\n",
        "\n",
        "def get_fixed_size(codes):\n",
        "  num_keys = len(codes)\n",
        "  num_bits_per_key = ceil(log(num_keys, 2))\n",
        "  return sum([num_bits_per_key * count for gap, (code, count) in codes.items()])"
      ]
    },
    {
      "cell_type": "code",
      "execution_count": 33,
      "metadata": {},
      "outputs": [
        {
          "output_type": "execute_result",
          "data": {
            "text/plain": [
              "{12: ('000', 920661),\n",
              " 24: ('0010', 453215),\n",
              " 40: ('001100', 111546),\n",
              " 78: ('001101000', 13758),\n",
              " 86: ('00110100100', 3411),\n",
              " 88: ('00110100101', 3454),\n",
              " 90: ('0011010011', 7056),\n",
              " 58: ('00110101', 27985),\n",
              " 66: ('00110110', 30960),\n",
              " 96: ('00110111000', 3544),\n",
              " 116: ('00110111001000', 439),\n",
              " 130: ('001101110010010', 211),\n",
              " 152: ('00110111001001100', 52),\n",
              " 160: ('001101110010011010', 27),\n",
              " 198: ('00110111001001101100', 6),\n",
              " 192: ('001101110010011011010', 3),\n",
              " 202: ('0011011100100110110110', 2),\n",
              " 220: ('00110111001001101101110', 1),\n",
              " 222: ('00110111001001101101111', 1),\n",
              " 188: ('00110111001001101110000', 1),\n",
              " 194: ('00110111001001101110001', 1),\n",
              " 190: ('00110111001001101110010', 1),\n",
              " 196: ('00110111001001101110011', 1),\n",
              " 210: ('001101110010011011101', 4),\n",
              " 172: ('001101110010011011110', 4),\n",
              " 184: ('001101110010011011111', 4),\n",
              " 144: ('0011011100100111', 123),\n",
              " 106: ('0011011100101', 933),\n",
              " 98: ('001101110011', 1831),\n",
              " 76: ('0011011101', 7253),\n",
              " 110: ('0011011110000', 941),\n",
              " 120: ('0011011110001', 948),\n",
              " 100: ('001101111001', 1923),\n",
              " 94: ('001101111010', 2058),\n",
              " 126: ('00110111101100', 533),\n",
              " 156: ('00110111101101000', 57),\n",
              " 148: ('00110111101101001', 67),\n",
              " 134: ('0011011110110101', 128),\n",
              " 122: ('001101111011011', 287),\n",
              " 114: ('0011011110111', 1125),\n",
              " 74: ('0011011111', 8540),\n",
              " 32: ('001110', 123123),\n",
              " 54: ('0011110', 64157),\n",
              " 44: ('0011111', 64866),\n",
              " 14: ('0100', 503524),\n",
              " 8: ('0101', 566151),\n",
              " 34: ('011000', 129043),\n",
              " 56: ('01100100', 32224),\n",
              " 62: ('011001010', 16763),\n",
              " 72: ('011001011', 17255),\n",
              " 64: ('011001100', 17374),\n",
              " 70: ('011001101', 17475),\n",
              " 52: ('01100111', 38800),\n",
              " 22: ('01101', 307230),\n",
              " 18: ('0111', 667734),\n",
              " 6: ('100', 1297540),\n",
              " 42: ('101000', 159956),\n",
              " 48: ('1010010', 93693),\n",
              " 38: ('1010011', 94682),\n",
              " 20: ('10101', 354267),\n",
              " 10: ('1011', 729808),\n",
              " 2: ('1100', 738597),\n",
              " 4: ('1101', 738717),\n",
              " 16: ('11100', 371677),\n",
              " 30: ('11101', 398713),\n",
              " 92: ('111100000000', 2259),\n",
              " 102: ('111100000001', 2374),\n",
              " 82: ('11110000001', 4791),\n",
              " 84: ('1111000001', 9818),\n",
              " 68: ('1111000010', 12368),\n",
              " 104: ('1111000011000', 1168),\n",
              " 132: ('111100001100100', 301),\n",
              " 140: ('1111000011001010', 140),\n",
              " 170: ('1111000011001011000', 18),\n",
              " 158: ('1111000011001011001', 19),\n",
              " 166: ('11110000110010110100', 9),\n",
              " 174: ('11110000110010110101', 10),\n",
              " 164: ('1111000011001011011', 20),\n",
              " 154: ('111100001100101110', 43),\n",
              " 180: ('11110000110010111100', 10),\n",
              " 182: ('111100001100101111010', 5),\n",
              " 204: ('1111000011001011110110', 3),\n",
              " 186: ('1111000011001011110111', 3),\n",
              " 176: ('11110000110010111110', 11),\n",
              " 178: ('11110000110010111111', 12),\n",
              " 124: ('111100001100110', 318),\n",
              " 128: ('1111000011001110', 183),\n",
              " 142: ('11110000110011110', 90),\n",
              " 150: ('11110000110011111', 94),\n",
              " 112: ('11110000110100', 711),\n",
              " 146: ('111100001101010000', 46),\n",
              " 168: ('1111000011010100010', 25),\n",
              " 162: ('1111000011010100011', 27),\n",
              " 136: ('11110000110101001', 100),\n",
              " 138: ('1111000011010101', 210),\n",
              " 118: ('111100001101011', 433),\n",
              " 108: ('1111000011011', 1634),\n",
              " 80: ('11110000111', 6760),\n",
              " 50: ('11110001', 52183),\n",
              " 46: ('11110010', 54931),\n",
              " 60: ('11110011', 55305),\n",
              " 36: ('111101', 206722),\n",
              " 26: ('111110', 211203),\n",
              " 28: ('111111', 229177)}"
            ]
          },
          "metadata": {},
          "execution_count": 33
        }
      ],
      "source": [
        "treeRoot = make_huffman_tree(gaps)\n",
        "codes = get_codes(treeRoot)\n",
        "codes"
      ]
    },
    {
      "cell_type": "code",
      "execution_count": 34,
      "metadata": {},
      "outputs": [
        {
          "output_type": "stream",
          "name": "stdout",
          "text": [
            "69999986\n44712373\n"
          ]
        }
      ],
      "source": [
        "fixed = get_fixed_size(codes)\n",
        "encoded = get_encoded_size(codes)\n",
        "print(fixed)\n",
        "print(encoded)"
      ]
    },
    {
      "cell_type": "markdown",
      "metadata": {
        "id": "TUB4mD8u1DCa"
      },
      "source": [
        "# DONE Achieve Target Compression Ratios"
      ]
    },
    {
      "cell_type": "markdown",
      "metadata": {
        "id": "8Vw71EqJ18eE"
      },
      "source": [
        "Your solution should correctly compute the following three compression ratios:\n",
        "\n",
        "| Ratio       | Value              |\n",
        "|-------------|--------------------|\n",
        "| From fixed  | 36.125168653605158 |\n",
        "| From binary |              86.03 |\n",
        "| From ASCII  |              94.02 | \n"
      ]
    },
    {
      "cell_type": "code",
      "execution_count": 60,
      "metadata": {},
      "outputs": [],
      "source": [
        "# Setup and get compression ratios\n",
        "def get_bin_size(primes):\n",
        "    return 32 * len(primes)\n",
        "\n",
        "def get_ascii_size(primes):\n",
        "    x = 0\n",
        "    for p in primes:\n",
        "        x += len(str(p) + '\\n') * 8\n",
        "    return x\n",
        "\n",
        "def report_fixed(codes):\n",
        "    return compression_ratio(get_fixed_size(codes), get_encoded_size(codes))\n",
        "\n",
        "def report_binary(codes, primes):\n",
        "    return compression_ratio(get_bin_size(primes), get_encoded_size(codes))\n",
        "\n",
        "def report_ascii(codes, primes):\n",
        "    return compression_ratio(get_ascii_size(primes), get_encoded_size(codes))"
      ]
    },
    {
      "cell_type": "code",
      "execution_count": 61,
      "metadata": {},
      "outputs": [
        {
          "output_type": "stream",
          "name": "stdout",
          "text": [
            "Fixed: 36.12516865360516\n",
            "Binary: 86.03\n",
            "ASCII: 94.02\n"
          ]
        }
      ],
      "source": [
        "# Show us the compression ratios!\n",
        "print(\"Fixed: \" + str(report(codes)))\n",
        "print(\"Binary: %.2f\" % report_binary(codes, primes))\n",
        "print(\"ASCII: %.2f\" % report_ascii(codes, primes))"
      ]
    },
    {
      "cell_type": "markdown",
      "metadata": {
        "id": "81dbKwHenxnT"
      },
      "source": [
        "# TODO My Report on What I Did and What I Learned"
      ]
    },
    {
      "cell_type": "markdown",
      "metadata": {
        "id": "C8BeiIern33B"
      },
      "source": [
        "## Fun\n"
      ]
    },
    {
      "cell_type": "markdown",
      "metadata": {
        "id": "ElukRLoezyxd"
      },
      "source": [
        "During DM1, I really enjoyed learning about Huffman coding. It was very fun to revist this concept and to dive deeper into data compression. It was also fun to work at getting the right compression ratios (although forgetting to include the newline character for a while was frustrating). "
      ]
    },
    {
      "cell_type": "markdown",
      "metadata": {
        "id": "OzOkZ3son-u9"
      },
      "source": [
        "## New"
      ]
    },
    {
      "cell_type": "markdown",
      "metadata": {
        "id": "3-nYIdEUz4x5"
      },
      "source": [
        "I learned more about data compression, and especially the differences that occur when you use different types (fixed length, binary, ASCII). I also learned about using anytree, which seems like a useful tool that I admittedly don't have a complete grasp on yet, but am excited to learn more about. "
      ]
    },
    {
      "cell_type": "markdown",
      "metadata": {
        "id": "mJHvoj6GokaZ"
      },
      "source": [
        "## Meaningful\n"
      ]
    },
    {
      "cell_type": "markdown",
      "metadata": {
        "id": "XOxh3XFTz-6N"
      },
      "source": [
        "I think being able to generate a Huffman tree is something that I can build upon, especially next week as we explore graphs more deeply. I look forward to using what we've done this week as a foundation for future assignments and problems. "
      ]
    },
    {
      "cell_type": "markdown",
      "metadata": {
        "id": "_RBE03fhpNUG"
      },
      "source": [
        "## Other"
      ]
    },
    {
      "cell_type": "markdown",
      "metadata": {
        "id": "d-sXEeq60C3W"
      },
      "source": [
        "In the discussion board this week we talked about giving and receiving help. A lot of the code that I used this week was contributed by other people. Sometimes when programming I feel the urge to start everything from scratch - and while having an understanding of the code is important, it is also important to not reinvent the wheel. I also hope that as I hone my skills and learn more that I can contribute useful code and knowledge. "
      ]
    },
    {
      "cell_type": "markdown",
      "metadata": {
        "id": "Nrk-8EmgW4NP"
      },
      "source": [
        "# TODO What is True?\n",
        "Click on each warranted checkbox to toggle it to True (or back to False). \n",
        "\n",
        "NOTE: *This only works in Colab. If you run it in some other Jupyter notebook client/server environment you may have to change False to True (or vice versa) manually.*\n",
        "\n",
        "This self-assessment is subject to revision by a grader."
      ]
    },
    {
      "cell_type": "code",
      "metadata": {
        "id": "qGAjzgVRXR4M"
      },
      "source": [
        "#@markdown ## What is True about what I did?\n",
        "#@markdown ### I had fun.\n",
        "cb00 = True #@param {type:'boolean'}\n",
        "#@markdown ### I learned something new.\n",
        "cb01 = True #@param {type:'boolean'}\n",
        "#@markdown ### I achieved something meaningful, or something I can build upon at a later time.\n",
        "cb02 = True #@param {type:'boolean'}\n",
        "#@markdown ## What is True about my report?\n",
        "#@markdown ### I wrote a sufficient number of well-written sentences.\n",
        "cb03 = True #@param {type:'boolean'}\n",
        "#@markdown ### My report is free of mechanical infelicities.\n",
        "cb04 = True #@param {type:'boolean'}\n",
        "#@markdown ### I used Grammarly (or something better described in my report) to check for MIs.\n",
        "cb05 = True #@param {type:'boolean'}\n",
        "#@markdown ### I reported on any connections I found between these problems and something I already know. \n",
        "cb06 = True #@param {type:'boolean'}\n",
        "#@markdown ### I reported who were and what contribution each of my collaborators made.\n",
        "cb07 = True #@param {type:'boolean'}\n",
        "#@markdown ## What is True about my calculations?\n",
        "#@markdown ### I correctly calculated the number of times each gap size occurs. \n",
        "cb08 = True #@param {type:'boolean'}\n",
        "#@markdown ### I correctly calculated the number of bits per gap size with a fixed encoding.\n",
        "cb09 = True #@param {type:'boolean'}\n",
        "#@markdown ### I correctly calculated the total number of bits encoded with the Huffman encoding.\n",
        "cb10 = True #@param {type:'boolean'}\n",
        "#@markdown ### I correctly calculated the total number of bits encoded with the fixed encoding.\n",
        "cb11 = True #@param {type:'boolean'}\n",
        "#@markdown ### I correctly calculated the compression ratio from this fixed encoding.\n",
        "cb12 = True #@param {type:'boolean'}\n",
        "#@markdown ### I correctly calculated the size of the first ten million primes encoded as 32-bit integer binary data.\n",
        "cb13 = True #@param {type:'boolean'}\n",
        "#@markdown ### I correctly calculated the compression ratio from the binary size.\n",
        "cb14 = True #@param {type:'boolean'}\n",
        "#@markdown ### I correctly calculated the size of the first ten million primes encoded as ASCII data.\n",
        "cb15 = True #@param {type:'boolean'}\n",
        "#@markdown ### I correctly calculated the compression ratio from the ASCII size (just the primes, nothing else).\n",
        "cb16 = True #@param {type:'boolean'}"
      ],
      "execution_count": 38,
      "outputs": []
    },
    {
      "cell_type": "markdown",
      "metadata": {
        "id": "q8KESLBANSkC"
      },
      "source": [
        "## DO NOT CHANGE ANYTHING IN THE NEXT CODE CELL!!\n",
        "### Delete this cell and the following ones before submitting your work."
      ]
    },
    {
      "cell_type": "code",
      "metadata": {
        "id": "rJ_vaL0DWwoc"
      },
      "source": [
        "points_for_what_I_did = [5]*3\n",
        "points_for_my_report = [8]*5\n",
        "points_for_my_calculations = [5]*9\n",
        "points = points_for_what_I_did + points_for_my_report + points_for_my_calculations\n",
        "# cb is short for checkbox\n",
        "total = sum(map(lambda n, p: p if eval(f'cb{n:02}') else 0,\n",
        "                range(len(points)), points))             \n",
        "total"
      ],
      "execution_count": 39,
      "outputs": [
        {
          "output_type": "execute_result",
          "data": {
            "text/plain": [
              "0"
            ]
          },
          "metadata": {},
          "execution_count": 39
        }
      ]
    },
    {
      "cell_type": "markdown",
      "metadata": {
        "id": "muxeYgQQKGEU"
      },
      "source": [
        "# For graders"
      ]
    },
    {
      "cell_type": "code",
      "metadata": {
        "id": "c0ldoieNKMTU"
      },
      "source": [
        "#@markdown ---\n",
        "number_of_MIs_found = 0 #@param {type: 'slider', min: 0, max: 5}\n",
        "#@markdown ---\n"
      ],
      "execution_count": 40,
      "outputs": []
    }
  ]
}