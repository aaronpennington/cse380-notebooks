{
  "nbformat": 4,
  "nbformat_minor": 0,
  "metadata": {
    "colab": {
      "name": "09_4_Expound_on_Topics.ipynb",
      "provenance": [],
      "authorship_tag": "ABX9TyOS6OoBecEvHE0t/B6OEyo/",
      "include_colab_link": true
    },
    "kernelspec": {
      "name": "python3",
      "display_name": "Python 3.9.0 64-bit",
      "metadata": {
        "interpreter": {
          "hash": "5cb4c5a19cdfdb0bed0268ea814c514807ee9e7440f691fbb4fb5e0f945f1cd4"
        }
      }
    }
  },
  "cells": [
    {
      "cell_type": "markdown",
      "metadata": {
        "id": "view-in-github",
        "colab_type": "text"
      },
      "source": [
        "<a href=\"https://colab.research.google.com/github/byui-cse/cse380-notebooks/blob/master/09_4_Expound_on_Topics.ipynb\" target=\"_parent\"><img src=\"https://colab.research.google.com/assets/colab-badge.svg\" alt=\"Open In Colab\"/></a>"
      ]
    },
    {
      "cell_type": "markdown",
      "metadata": {
        "id": "SUdU1DR4EjZz"
      },
      "source": [
        "# Expound on Topics\n",
        "## Wednesday, 3 March 2021"
      ]
    },
    {
      "cell_type": "markdown",
      "metadata": {
        "id": "nZ8G78SzEpUb"
      },
      "source": [
        "Let's explore prime sieving a bit, shall we?"
      ]
    },
    {
      "cell_type": "code",
      "metadata": {
        "id": "Ek1o0F9TExzh"
      },
      "source": [
        "# From the\n",
        "# Exemplary answer to Exercise 307. The magic happens\n",
        "# in realprimes, which is based on a sieve found\n",
        "# somewhere online. This takes a few  seconds to run.\n",
        "# Pretty close to as fast as (or is it faster than?)\n",
        "# using the highly tuned primerange or sieve functions\n",
        "# found in the sympy module.\n",
        "def realprimes(n):\n",
        "  \"\"\"Input n > 5, returns a list of primes, 3 < p < n.\n",
        "  \"\"\"\n",
        "  if n <= 5:\n",
        "      raise ValueError(f\"realprimes needs a number > 5, but got {n}.\")\n",
        "  n, correction = n - n % 6 + 6, 2 - (n % 6 > 1)\n",
        "  sieve = [True] * (n // 3)\n",
        "  for i in range(1, int(n ** 0.5) // 3 + 1):\n",
        "      if sieve[i]:\n",
        "          k = 3 * i + 1 | 1\n",
        "          sieve[k * k // 3 :: 2 * k] = [False] * ((n // 6 - k * k // 6 - 1) // k + 1)\n",
        "          sieve[k * (k - 2 * (i & 1) + 4) // 3 :: 2 * k] = [False] * ((n // 6 - k * (k - 2 * (i & 1) + 4) // 6 - 1) // k + 1)\n",
        "  return [3 * i + 1 | 1 for i in range(1, n // 3 - correction) if sieve[i]]"
      ],
      "execution_count": 2,
      "outputs": []
    },
    {
      "cell_type": "markdown",
      "metadata": {
        "id": "cG24wubPGqu7"
      },
      "source": [
        "## How about this?"
      ]
    },
    {
      "cell_type": "code",
      "metadata": {
        "id": "x0xbvr7VHu0T"
      },
      "source": [
        "def repres(rows, *moduli):\n",
        "  \"\"\"Repeating residues made\n",
        "     by modding range(rows+1)\n",
        "     by each of an arbitrary\n",
        "     number of moduli, one\n",
        "     tuple of residues per row.\n",
        "  \"\"\"\n",
        "  for n in range(rows + 1):\n",
        "    print(n, end=' ')\n",
        "    residues=list(map(lambda m:\\\n",
        "      n % m, moduli))\n",
        "    print(*residues)\n",
        "\n",
        "import functools, math, operator, sys\n",
        "\n",
        "if sys.version_info >= (3, 8):\n",
        "  product = math.prod\n",
        "\n",
        "  def lcm(*numbers):\n",
        "    return math.prod(numbers) // math.gcd(*numbers)\n",
        "else:\n",
        "  product = functools.partial(functools.reduce, operator.mul)\n",
        "  greatest_common_divisor = functools.partial(functools.reduce, math.gcd)\n",
        "  def lcm(*numbers):\n",
        "    return product(numbers) // greatest_common_divisor(numbers)\n",
        "\n",
        "def represBG(*moduli):\n",
        "  \"\"\"Repeating residues with\n",
        "     bijectivity guaranteed\n",
        "     made by modding\n",
        "     range(lcm(*moduli))\n",
        "     by each of an arbitrary\n",
        "     number of moduli, one\n",
        "     tuple of residues per row.\n",
        "  \"\"\"\n",
        "  primeList = []\n",
        "  for n in range(lcm(*moduli)):\n",
        "    # print(n, end=' <--> (')\n",
        "    residues=list(map(lambda m:\\\n",
        "      n % m, moduli))\n",
        "    # print(*residues, sep=', ', \\\n",
        "    #                  end=')\\n')\n",
        "    if(0 not in residues):\n",
        "      primeList.append(n)\n",
        "  return primeList"
      ],
      "execution_count": 3,
      "outputs": []
    },
    {
      "cell_type": "markdown",
      "metadata": {
        "id": "JjiZ2WgOGs3G"
      },
      "source": [
        "## TODO for ICE\n",
        "Write a good filter to tell primes from nonprimes given their residue lists:"
      ]
    },
    {
      "cell_type": "code",
      "metadata": {
        "colab": {
          "base_uri": "https://localhost:8080/"
        },
        "id": "2sW9bBRKNdA9",
        "outputId": "59e10881-e179-4b80-fe97-45948d7cdf7a"
      },
      "source": [
        "2 * 3 * 5 * 7 * 11"
      ],
      "execution_count": 9,
      "outputs": [
        {
          "output_type": "execute_result",
          "data": {
            "text/plain": [
              "2310"
            ]
          },
          "metadata": {},
          "execution_count": 9
        }
      ]
    },
    {
      "cell_type": "code",
      "metadata": {
        "id": "cgcaVQkIH8-9",
        "tags": []
      },
      "source": [
        "# I changed the function to print out a list of the primes, with the filter being a 0 in the residue list. \n",
        "print(represBG(2, 3, 5, 7, 11))"
      ],
      "execution_count": 19,
      "outputs": [
        {
          "output_type": "stream",
          "name": "stdout",
          "text": [
            "[1, 13, 17, 19, 23, 29, 31, 37, 41, 43, 47, 53, 59, 61, 67, 71, 73, 79, 83, 89, 97, 101, 103, 107, 109, 113, 127, 131, 137, 139, 149, 151, 157, 163, 167, 169, 173, 179, 181, 191, 193, 197, 199, 211, 221, 223, 227, 229, 233, 239, 241, 247, 251, 257, 263, 269, 271, 277, 281, 283, 289, 293, 299, 307, 311, 313, 317, 323, 331, 337, 347, 349, 353, 359, 361, 367, 373, 377, 379, 383, 389, 391, 397, 401, 403, 409, 419, 421, 431, 433, 437, 439, 443, 449, 457, 461, 463, 467, 479, 481, 487, 491, 493, 499, 503, 509, 521, 523, 527, 529, 533, 541, 547, 551, 557, 559, 563, 569, 571, 577, 587, 589, 593, 599, 601, 607, 611, 613, 617, 619, 629, 631, 641, 643, 647, 653, 659, 661, 667, 673, 677, 683, 689, 691, 697, 701, 703, 709, 713, 719, 727, 731, 733, 739, 743, 751, 757, 761, 767, 769, 773, 779, 787, 793, 797, 799, 809, 811, 817, 821, 823, 827, 829, 839, 841, 851, 853, 857, 859, 863, 871, 877, 881, 883, 887, 893, 899, 901, 907, 911, 919, 923, 929, 937, 941, 943, 947, 949, 953, 961, 967, 971, 977, 983, 989, 991, 997, 1003, 1007, 1009, 1013, 1019, 1021, 1027, 1031, 1033, 1037, 1039, 1049, 1051, 1061, 1063, 1069, 1073, 1079, 1081, 1087, 1091, 1093, 1097, 1103, 1109, 1117, 1121, 1123, 1129, 1139, 1147, 1151, 1153, 1157, 1159, 1163, 1171, 1181, 1187, 1189, 1193, 1201, 1207, 1213, 1217, 1219, 1223, 1229, 1231, 1237, 1241, 1247, 1249, 1259, 1261, 1271, 1273, 1277, 1279, 1283, 1289, 1291, 1297, 1301, 1303, 1307, 1313, 1319, 1321, 1327, 1333, 1339, 1343, 1349, 1357, 1361, 1363, 1367, 1369, 1373, 1381, 1387, 1391, 1399, 1403, 1409, 1411, 1417, 1423, 1427, 1429, 1433, 1439, 1447, 1451, 1453, 1457, 1459, 1469, 1471, 1481, 1483, 1487, 1489, 1493, 1499, 1501, 1511, 1513, 1517, 1523, 1531, 1537, 1541, 1543, 1549, 1553, 1559, 1567, 1571, 1577, 1579, 1583, 1591, 1597, 1601, 1607, 1609, 1613, 1619, 1621, 1627, 1633, 1637, 1643, 1649, 1651, 1657, 1663, 1667, 1669, 1679, 1681, 1691, 1693, 1697, 1699, 1703, 1709, 1711, 1717, 1721, 1723, 1733, 1739, 1741, 1747, 1751, 1753, 1759, 1763, 1769, 1777, 1781, 1783, 1787, 1789, 1801, 1807, 1811, 1817, 1819, 1823, 1829, 1831, 1843, 1847, 1849, 1853, 1861, 1867, 1871, 1873, 1877, 1879, 1889, 1891, 1901, 1907, 1909, 1913, 1919, 1921, 1927, 1931, 1933, 1937, 1943, 1949, 1951, 1957, 1961, 1963, 1973, 1979, 1987, 1993, 1997, 1999, 2003, 2011, 2017, 2021, 2027, 2029, 2033, 2039, 2041, 2047, 2053, 2059, 2063, 2069, 2071, 2077, 2081, 2083, 2087, 2089, 2099, 2111, 2113, 2117, 2119, 2129, 2131, 2137, 2141, 2143, 2147, 2153, 2159, 2161, 2171, 2173, 2179, 2183, 2197, 2201, 2203, 2207, 2209, 2213, 2221, 2227, 2231, 2237, 2239, 2243, 2249, 2251, 2257, 2263, 2267, 2269, 2273, 2279, 2281, 2287, 2291, 2293, 2297, 2309]\n"
          ]
        }
      ]
    },
    {
      "cell_type": "markdown",
      "metadata": {
        "id": "vr1vcdRsGwGd"
      },
      "source": [
        "# TODO for ICE"
      ]
    },
    {
      "cell_type": "markdown",
      "metadata": {
        "id": "3QxFlyDQG1xA"
      },
      "source": [
        "Write a Python function to restore the list of the first 10 million primes given the list of gaps between them.\n",
        "\n",
        "Compare the restored list with the original to ensure you did it right."
      ]
    },
    {
      "cell_type": "code",
      "metadata": {
        "colab": {
          "base_uri": "https://localhost:8080/"
        },
        "id": "RkXaH7n5JFxB",
        "outputId": "07961b76-10d1-4f38-da4b-6003961e9503"
      },
      "source": [
        "from sympy import primerange\n",
        "\n",
        "ten_millionth_prime = 179424673\n",
        "\n",
        "first_ten_million_primes = list(primerange(1, ten_millionth_prime + 1))\n",
        "\n",
        "print(first_ten_million_primes[0:200])\n",
        "\n",
        "def list_the_gaps(n=first_ten_million_primes):\n",
        "    return list(map(lambda i: n[i]-n[i-1],range(2,len(n))))\n",
        "\n",
        "def restore_primes(list_of_gaps):\n",
        "    prime = 3\n",
        "    plist = [2, 3]\n",
        "    for gap in list_of_gaps:\n",
        "        prime += gap\n",
        "        plist.append(prime)\n",
        "    return plist\n",
        "\n",
        "list_of_gaps = list_the_gaps()\n",
        "length_of_list_of_gaps = len(list_of_gaps)\n",
        "print(\"Length of list of gaps:\")\n",
        "print(length_of_list_of_gaps)"
      ],
      "execution_count": 4,
      "outputs": [
        {
          "output_type": "stream",
          "name": "stdout",
          "text": [
            "[2, 3, 5, 7, 11, 13, 17, 19, 23, 29, 31, 37, 41, 43, 47, 53, 59, 61, 67, 71, 73, 79, 83, 89, 97, 101, 103, 107, 109, 113, 127, 131, 137, 139, 149, 151, 157, 163, 167, 173, 179, 181, 191, 193, 197, 199, 211, 223, 227, 229, 233, 239, 241, 251, 257, 263, 269, 271, 277, 281, 283, 293, 307, 311, 313, 317, 331, 337, 347, 349, 353, 359, 367, 373, 379, 383, 389, 397, 401, 409, 419, 421, 431, 433, 439, 443, 449, 457, 461, 463, 467, 479, 487, 491, 499, 503, 509, 521, 523, 541, 547, 557, 563, 569, 571, 577, 587, 593, 599, 601, 607, 613, 617, 619, 631, 641, 643, 647, 653, 659, 661, 673, 677, 683, 691, 701, 709, 719, 727, 733, 739, 743, 751, 757, 761, 769, 773, 787, 797, 809, 811, 821, 823, 827, 829, 839, 853, 857, 859, 863, 877, 881, 883, 887, 907, 911, 919, 929, 937, 941, 947, 953, 967, 971, 977, 983, 991, 997, 1009, 1013, 1019, 1021, 1031, 1033, 1039, 1049, 1051, 1061, 1063, 1069, 1087, 1091, 1093, 1097, 1103, 1109, 1117, 1123, 1129, 1151, 1153, 1163, 1171, 1181, 1187, 1193, 1201, 1213, 1217, 1223]\n",
            "Length of list of gaps:\n",
            "9999998\n"
          ]
        }
      ]
    },
    {
      "cell_type": "code",
      "metadata": {
        "colab": {
          "base_uri": "https://localhost:8080/"
        },
        "id": "VvXL3YeqMYIF",
        "outputId": "8428500a-0317-422b-c651-0fcda4968979"
      },
      "source": [
        "first_ten_million_primes_restored = restore_primes(list_of_gaps)\n",
        "first_ten_million_primes_restored == first_ten_million_primes"
      ],
      "execution_count": 4,
      "outputs": [
        {
          "output_type": "execute_result",
          "data": {
            "text/plain": [
              "True"
            ]
          },
          "metadata": {
            "tags": []
          },
          "execution_count": 4
        }
      ]
    }
  ]
}