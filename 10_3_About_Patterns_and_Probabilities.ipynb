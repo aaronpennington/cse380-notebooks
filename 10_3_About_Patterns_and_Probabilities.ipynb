{
  "nbformat": 4,
  "nbformat_minor": 0,
  "metadata": {
    "colab": {
      "name": "10_3_About_Patterns_and_Probabilities.ipynb",
      "provenance": [],
      "authorship_tag": "ABX9TyPNRN6ikcgI798GoO+Ivy3H",
      "include_colab_link": true
    },
    "kernelspec": {
      "name": "python3",
      "display_name": "Python 3.9.0 64-bit",
      "metadata": {
        "interpreter": {
          "hash": "5cb4c5a19cdfdb0bed0268ea814c514807ee9e7440f691fbb4fb5e0f945f1cd4"
        }
      }
    }
  },
  "cells": [
    {
      "cell_type": "markdown",
      "metadata": {
        "id": "view-in-github",
        "colab_type": "text"
      },
      "source": [
        "<a href=\"https://colab.research.google.com/github/byui-cse/cse380-notebooks/blob/master/10_3_About_Patterns_and_Probabilities.ipynb\" target=\"_parent\"><img src=\"https://colab.research.google.com/assets/colab-badge.svg\" alt=\"Open In Colab\"/></a>"
      ]
    },
    {
      "cell_type": "markdown",
      "metadata": {
        "id": "ORT063X6qemA"
      },
      "source": [
        "# About Patterns and Probabilities\n",
        "## Class Directed Learning\n",
        "### Due: Tuesday, 9 March 2021, 11:59 pm"
      ]
    },
    {
      "cell_type": "markdown",
      "metadata": {
        "id": "3uLuCScqqu_B"
      },
      "source": [
        "## TODO Explore and Wonder"
      ]
    },
    {
      "cell_type": "markdown",
      "metadata": {
        "id": "NxqhXwDAq2-t"
      },
      "source": [
        "Regarding spanning trees of ladder graphs:\n",
        "\n",
        "What is the probability ($\\lim_{n \\rightarrow \\infty} P(n)$) that a randomly-selected spanning tree of an $n$-rung ladder graph contains the bottom rung?\n",
        "\n",
        "| n | P(n)  |\n",
        "|---|------:|\n",
        "| 1 |      1|\n",
        "| 2 |    .75|\n",
        "| 3 |  .7333|\n",
        "| 4 |  .7321|\n",
        "| 5 |  .7320|\n"
      ]
    },
    {
      "source": [
        "$\\lim_{n \\rightarrow \\infty} P(n) = 0.73205$"
      ],
      "cell_type": "markdown",
      "metadata": {}
    },
    {
      "cell_type": "markdown",
      "metadata": {
        "id": "5I1vmRcJrWuL"
      },
      "source": [
        "### Recurrence Relations"
      ]
    },
    {
      "cell_type": "markdown",
      "metadata": {
        "id": "6DLWZ6IbrZxo"
      },
      "source": [
        "Let $f(n) =$ NSTIBR$(n)$:\n",
        "\n",
        "$f(n) = 4f(n-1) - f(n-2)$ for $n > 1$;\n",
        "\n",
        "$f(0) = 1$,\n",
        "\n",
        "$f(1) = 1$.\n",
        "\n",
        "Let $g(n) =$ NST$(n)$:\n",
        "\n",
        "$g(n) = 4g(n-1) - g(n-2)$ for $n > 1$;\n",
        "\n",
        "$g(0) = 0$,\n",
        "\n",
        "$g(1) = 1$."
      ]
    },
    {
      "cell_type": "code",
      "execution_count": 21,
      "metadata": {},
      "outputs": [],
      "source": [
        "def nstibr(n):\n",
        "    f = 0\n",
        "    if n > 1:\n",
        "        f += 4 * nstibr(n-1) - nstibr(n-2)\n",
        "    if (n == 1 or n == 0):\n",
        "        f = 1\n",
        "    return f\n",
        "\n",
        "def nst(n):\n",
        "    g = 0\n",
        "    if n > 1:\n",
        "        g += 4 * nst(n-1) - nst(n-2)\n",
        "    if (n == 1):\n",
        "        g = 1\n",
        "    elif (n == 0):\n",
        "        g = 0\n",
        "    return g\n",
        "\n",
        "def pstibr(n):\n",
        "    if (n > 0):\n",
        "        return nstibr(n) / nst(n)\n",
        "    else:\n",
        "        return 0"
      ]
    },
    {
      "cell_type": "code",
      "execution_count": 22,
      "metadata": {},
      "outputs": [
        {
          "output_type": "stream",
          "name": "stdout",
          "text": [
            "n\tf(n)\tg(n)\tP(STIBR)\n0\t1\t0\t0\n1\t1\t1\t1.0\n2\t3\t4\t0.75\n3\t11\t15\t0.7333333333333333\n4\t41\t56\t0.7321428571428571\n5\t153\t209\t0.7320574162679426\n6\t571\t780\t0.732051282051282\n7\t2131\t2911\t0.7320508416351769\n8\t7953\t10864\t0.7320508100147275\n9\t29681\t40545\t0.7320508077444814\n10\t110771\t151316\t0.7320508075814851\n11\t413403\t564719\t0.7320508075697825\n12\t1542841\t2107560\t0.7320508075689423\n13\t5757961\t7865521\t0.732050807568882\n"
          ]
        }
      ],
      "source": [
        "print(\"n\\tf(n)\\tg(n)\\tP(STIBR)\")\n",
        "for i in range(0, 14):\n",
        "    print(str(i) + \"\\t\" + str(nstibr(i)) + \"\\t\" + str(nst(i)) + \"\\t\" + str(pstibr(i)))"
      ]
    },
    {
      "cell_type": "markdown",
      "metadata": {
        "id": "Pnza6EawsXDG"
      },
      "source": [
        "#### TODO Check Recurrences"
      ]
    },
    {
      "cell_type": "markdown",
      "metadata": {
        "id": "qZYRsZH7tDn6"
      },
      "source": [
        "Check the calculations in this table (maybe write recursive functions) to verify they are accurate.\n",
        "\n",
        "Do they match what you found yesterday in your DPC?"
      ]
    },
    {
      "cell_type": "markdown",
      "metadata": {
        "id": "YBgTCBGysYf5"
      },
      "source": [
        "| n | f(n) | f(n-1) | 4f(n-1)  | f(n - 2) | diff |\n",
        "|---|-----:|-------:|---------:|---------:|-----:|\n",
        "| 0 |    1 |    N/A |      N/A |      N/A |  N/A |\n",
        "| 1 |    1 |      1 |        4 |      N/A |  N/A |\n",
        "| 2 |    3 |      1 |        4 |        1 |    3 |\n",
        "| 3 |   11 |      3 |       12 |        1 |   11 |\n",
        "| 4 |   41 |     11 |       44 |        3 |   41 |\n",
        "| 5 |  153 |     41 |      164 |       11 |  153 |"
      ]
    },
    {
      "cell_type": "markdown",
      "metadata": {
        "id": "4fqIc8DMsiHo"
      },
      "source": [
        "| n | g(n) | g(n-1) | 4g(n-1)  | g(n - 2) | diff |\n",
        "|---|-----:|-------:|---------:|---------:|-----:|\n",
        "| 0 |    0 |    N/A |      N/A |      N/A |  N/A |\n",
        "| 1 |    1 |      0 |        0 |      N/A |  N/A |\n",
        "| 2 |    4 |      1 |        4 |        0 |    4 |\n",
        "| 3 |   15 |      4 |       16 |        1 |   15 |\n",
        "| 4 |   56 |     15 |       60 |        4 |   56 |\n",
        "| 5 |  209 |     56 |      224 |       15 |  209 |"
      ]
    },
    {
      "cell_type": "markdown",
      "metadata": {
        "id": "n1o1Dnn5slb9"
      },
      "source": [
        "### TODO Find closed-form formulas"
      ]
    },
    {
      "cell_type": "markdown",
      "metadata": {
        "id": "K1JrJf4pst3x"
      },
      "source": [
        "Can you find closed-form formulas for $f(n)$ and $g(n)$?\n",
        "\n",
        "A closed-form formula expressing these functions in terms of operations on $n$, **without** referring to previous calculated values of the functions."
      ]
    },
    {
      "cell_type": "markdown",
      "metadata": {
        "id": "pBhSqKKI2b6u"
      },
      "source": [
        "#### Hint:"
      ]
    },
    {
      "cell_type": "markdown",
      "metadata": {
        "id": "7ovCUy-52dUh"
      },
      "source": [
        "http://www.ist.tugraz.at/aichholzer/teaching/eca/spanning_trees_in_ladders.pdf"
      ]
    },
    {
      "cell_type": "markdown",
      "metadata": {
        "id": "ZyzBmWV_teue"
      },
      "source": [
        "#### Possibly Illuminating Calculations"
      ]
    },
    {
      "cell_type": "markdown",
      "metadata": {
        "id": "GnSc0aQ-qaNI"
      },
      "source": [
        "Remember continued fractions?"
      ]
    },
    {
      "cell_type": "code",
      "metadata": {
        "id": "8X1u-ZeFqQsn"
      },
      "source": [
        "from fractions import Fraction as frac\n",
        "\n",
        "def contfrac2frac(seq):\n",
        "    \"\"\"Convert the simple continued fraction in `seq`\n",
        "       into a fraction with numerator num and denominator den.\n",
        "    \"\"\"\n",
        "    num, den = 1, 0\n",
        "    for u in reversed(seq):\n",
        "        num, den = den + num * u, num\n",
        "    return frac(num, den)\n",
        "\n",
        "def frac2contfrac(f):\n",
        "    \"\"\"Build the simple continued fraction expansion of fraction f.\n",
        "    \"\"\"\n",
        "    seq = []\n",
        "    frac2contfrac_rec(f, seq)\n",
        "    return seq\n",
        "\n",
        "def frac2contfrac_rec(f, seq):\n",
        "    n = f.numerator\n",
        "    d = f.denominator\n",
        "    if d != 0:\n",
        "        seq.append(n // d)\n",
        "        if n % d != 0:\n",
        "            frac2contfrac_rec(frac(d, n % d), seq)\n",
        "\n",
        "def eval_frac(f):\n",
        "    \"\"\"Evaluate the fraction f as a float.\n",
        "    \"\"\"\n",
        "    return f.numerator / f.denominator"
      ],
      "execution_count": 23,
      "outputs": []
    },
    {
      "cell_type": "code",
      "metadata": {
        "id": "YYH6Mf1ztnfu"
      },
      "source": [
        "from math import sqrt\n",
        "\n",
        "value = sqrt(3) - 1\n",
        "value_as_cf = frac2contfrac(frac.from_float(value))[:21]\n",
        "cf_to_value = contfrac2frac(value_as_cf)\n",
        "print(value, value_as_cf, cf_to_value)\n",
        "print(eval_frac(cf_to_value))"
      ],
      "execution_count": 24,
      "outputs": [
        {
          "output_type": "stream",
          "name": "stdout",
          "text": [
            "0.7320508075688772 [0, 1, 2, 1, 2, 1, 2, 1, 2, 1, 2, 1, 2, 1, 2, 1, 2, 1, 2, 1, 2] 302632/413403\n0.732050807565499\n"
          ]
        }
      ]
    },
    {
      "cell_type": "code",
      "metadata": {
        "id": "yviS2YG_t2rx"
      },
      "source": [
        "from pprint import pprint\n",
        "\n",
        "pprint(list(map(lambda n: contfrac2frac(value_as_cf[:n]), range(20, 5, -1))))"
      ],
      "execution_count": 25,
      "outputs": [
        {
          "output_type": "stream",
          "name": "stdout",
          "text": [
            "[Fraction(110771, 151316),\n Fraction(81090, 110771),\n Fraction(29681, 40545),\n Fraction(21728, 29681),\n Fraction(7953, 10864),\n Fraction(5822, 7953),\n Fraction(2131, 2911),\n Fraction(1560, 2131),\n Fraction(571, 780),\n Fraction(418, 571),\n Fraction(153, 209),\n Fraction(112, 153),\n Fraction(41, 56),\n Fraction(30, 41),\n Fraction(11, 15)]\n"
          ]
        }
      ]
    },
    {
      "source": [
        "g(n) = $\\frac{1}{2\\sqrt{3}}(2 + \\sqrt{3})^n - \\frac{1}{2\\sqrt{3}}(2 - \\sqrt{3})^n$\n",
        "\n",
        "f(n) = $g(n) - g(n-1)$"
      ],
      "cell_type": "markdown",
      "metadata": {}
    },
    {
      "cell_type": "code",
      "execution_count": 26,
      "metadata": {},
      "outputs": [
        {
          "output_type": "stream",
          "name": "stdout",
          "text": [
            "0\n1\n3\n11\n41\n153\n"
          ]
        }
      ],
      "source": [
        "def nst2(n):\n",
        "    return int(1/(2*sqrt(3)) * (2 + sqrt(3)) ** n - 1/(2*sqrt(3)) * (2 - sqrt(3)) ** n)\n",
        "\n",
        "def nstibr2(n):\n",
        "    if (n == 0):\n",
        "        return 0\n",
        "    else:\n",
        "        return nst2(n) - nst2(n-1)"
      ]
    },
    {
      "cell_type": "code",
      "execution_count": 35,
      "metadata": {},
      "outputs": [
        {
          "output_type": "stream",
          "name": "stdout",
          "text": [
            "n\tf(n)\tg(n)\tP(STIBR)\n0\t0\t1\t0\n1\t1\t1\t1.0\n2\t3\t4\t0.75\n3\t11\t15\t0.7333333333333333\n4\t41\t56\t0.7321428571428571\n5\t153\t209\t0.7320574162679426\n6\t571\t780\t0.732051282051282\n7\t2131\t2911\t0.7320508416351769\n8\t7952\t10863\t0.7320261437908496\n9\t29682\t40545\t0.7320754716981132\n10\t110770\t151315\t0.7320490367775832\n11\t413403\t564718\t0.7320521038819375\n12\t1542841\t2107559\t0.7320511549142871\n13\t5757961\t7865520\t0.7320509006397543\n"
          ]
        }
      ],
      "source": [
        "# As a sanity check, let's get the first few calculations. \n",
        "\n",
        "print(\"n\\tf(n)\\tg(n)\\tP(STIBR)\")\n",
        "print(\"0\\t0\\t1\\t0\")\n",
        "for i in range(1, 14):\n",
        "    print(str(i) + \"\\t\" + str(nstibr2(i)) + \"\\t\" + str(nst2(i)) + \"\\t\" + str(eval_frac(frac(nstibr2(i), nst2(i)))))\n",
        "\n",
        "# The results are consistent with what we got with the recursive functions, and we again see that the limit of P(STIBR) as n approaches inf is ~ 0.73205"
      ]
    },
    {
      "cell_type": "code",
      "execution_count": null,
      "metadata": {},
      "outputs": [],
      "source": []
    }
  ]
}