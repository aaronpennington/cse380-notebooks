{
  "nbformat": 4,
  "nbformat_minor": 0,
  "metadata": {
    "colab": {
      "name": "11_3_About_The_Petersen_Graph.ipynb",
      "provenance": [],
      "authorship_tag": "ABX9TyNAmHlPgKOYTC4XMSkz3cCR",
      "include_colab_link": true
    },
    "kernelspec": {
      "name": "python390jvsc74a57bd05cb4c5a19cdfdb0bed0268ea814c514807ee9e7440f691fbb4fb5e0f945f1cd4",
      "display_name": "Python 3.9.0 64-bit"
    },
    "metadata": {
      "interpreter": {
        "hash": "5cb4c5a19cdfdb0bed0268ea814c514807ee9e7440f691fbb4fb5e0f945f1cd4"
      }
    }
  },
  "cells": [
    {
      "cell_type": "markdown",
      "metadata": {
        "id": "view-in-github",
        "colab_type": "text"
      },
      "source": [
        "<a href=\"https://colab.research.google.com/github/byui-cse/cse380-notebooks/blob/master/11_3_About_The_Petersen_Graph.ipynb\" target=\"_parent\"><img src=\"https://colab.research.google.com/assets/colab-badge.svg\" alt=\"Open In Colab\"/></a>"
      ]
    },
    {
      "cell_type": "markdown",
      "metadata": {
        "id": "0lYSr_8JNUpQ"
      },
      "source": [
        "# About The Petersen Graph\n",
        "## Class Directed Learning\n",
        "### Due: Tuesday, 16 March 2021, 11:59 pm"
      ]
    },
    {
      "cell_type": "markdown",
      "metadata": {
        "id": "0PuwZHqzNfTa"
      },
      "source": [
        "## TODO Explore and Wonder"
      ]
    },
    {
      "cell_type": "markdown",
      "metadata": {
        "id": "Gsu1FnbuNptP"
      },
      "source": [
        "The Petersen graph is described as the complement of the line graph of $K_5$.\n",
        "\n",
        "Draw each step of this construction using any graph-drawing tools in your toolbox.\n",
        "\n",
        "Teach one another how to use the tools you each have."
      ]
    },
    {
      "cell_type": "code",
      "execution_count": 1,
      "metadata": {},
      "outputs": [
        {
          "output_type": "error",
          "ename": "NameError",
          "evalue": "name 'Graph' is not defined",
          "traceback": [
            "\u001b[1;31m---------------------------------------------------------------------------\u001b[0m",
            "\u001b[1;31mNameError\u001b[0m                                 Traceback (most recent call last)",
            "\u001b[1;32m<ipython-input-1-d013d326fe03>\u001b[0m in \u001b[0;36m<module>\u001b[1;34m\u001b[0m\n\u001b[0;32m      2\u001b[0m \u001b[1;32mfrom\u001b[0m \u001b[0mIPython\u001b[0m\u001b[1;33m.\u001b[0m\u001b[0mdisplay\u001b[0m \u001b[1;32mimport\u001b[0m \u001b[0mImage\u001b[0m\u001b[1;33m\u001b[0m\u001b[1;33m\u001b[0m\u001b[0m\n\u001b[0;32m      3\u001b[0m \u001b[1;33m\u001b[0m\u001b[0m\n\u001b[1;32m----> 4\u001b[1;33m \u001b[0mdot\u001b[0m \u001b[1;33m=\u001b[0m \u001b[0mGraph\u001b[0m\u001b[1;33m(\u001b[0m\u001b[0mcomment\u001b[0m\u001b[1;33m=\u001b[0m\u001b[1;34m'Petersen Graph'\u001b[0m\u001b[1;33m)\u001b[0m\u001b[1;33m\u001b[0m\u001b[1;33m\u001b[0m\u001b[0m\n\u001b[0m\u001b[0;32m      5\u001b[0m \u001b[0mpetersen_nodes\u001b[0m \u001b[1;33m=\u001b[0m \u001b[1;33m[\u001b[0m\u001b[1;34m'a'\u001b[0m\u001b[1;33m,\u001b[0m \u001b[1;34m'b'\u001b[0m\u001b[1;33m,\u001b[0m \u001b[1;34m'c'\u001b[0m\u001b[1;33m,\u001b[0m \u001b[1;34m'd'\u001b[0m\u001b[1;33m,\u001b[0m \u001b[1;34m'e'\u001b[0m\u001b[1;33m,\u001b[0m \u001b[1;34m'f'\u001b[0m\u001b[1;33m,\u001b[0m \u001b[1;34m'g'\u001b[0m\u001b[1;33m,\u001b[0m \u001b[1;34m'h'\u001b[0m\u001b[1;33m,\u001b[0m \u001b[1;34m'i'\u001b[0m\u001b[1;33m,\u001b[0m \u001b[1;34m'j'\u001b[0m\u001b[1;33m]\u001b[0m\u001b[1;33m\u001b[0m\u001b[1;33m\u001b[0m\u001b[0m\n\u001b[0;32m      6\u001b[0m \u001b[0mpetersen_links\u001b[0m \u001b[1;33m=\u001b[0m \u001b[1;33m[\u001b[0m\u001b[1;34m'ab'\u001b[0m\u001b[1;33m,\u001b[0m \u001b[1;34m'af'\u001b[0m\u001b[1;33m,\u001b[0m \u001b[1;34m'ae'\u001b[0m\u001b[1;33m,\u001b[0m \u001b[1;34m'bg'\u001b[0m\u001b[1;33m,\u001b[0m \u001b[1;34m'bc'\u001b[0m\u001b[1;33m,\u001b[0m \u001b[1;34m'ch'\u001b[0m\u001b[1;33m,\u001b[0m \u001b[1;34m'cd'\u001b[0m\u001b[1;33m,\u001b[0m \u001b[1;34m'di'\u001b[0m\u001b[1;33m,\u001b[0m \u001b[1;34m'de'\u001b[0m\u001b[1;33m,\u001b[0m \u001b[1;34m'ej'\u001b[0m\u001b[1;33m,\u001b[0m \u001b[1;34m'fh'\u001b[0m\u001b[1;33m,\u001b[0m \u001b[1;34m'fi'\u001b[0m\u001b[1;33m,\u001b[0m \u001b[1;34m'gj'\u001b[0m\u001b[1;33m,\u001b[0m \u001b[1;34m'gi'\u001b[0m\u001b[1;33m,\u001b[0m \u001b[1;34m'hj'\u001b[0m\u001b[1;33m]\u001b[0m\u001b[1;33m\u001b[0m\u001b[1;33m\u001b[0m\u001b[0m\n",
            "\u001b[1;31mNameError\u001b[0m: name 'Graph' is not defined"
          ]
        }
      ],
      "source": [
        "#from graphviz import Graph\n",
        "from IPython.display import Image\n",
        "\n",
        "dot = Graph(comment='Petersen Graph')\n",
        "petersen_nodes = ['a', 'b', 'c', 'd', 'e', 'f', 'g', 'h', 'i', 'j']\n",
        "petersen_links = ['ab', 'af', 'ae', 'bg', 'bc', 'ch', 'cd', 'di', 'de', 'ej', 'fh', 'fi', 'gj', 'gi', 'hj']\n",
        "\n",
        "for node in petersen_nodes:\n",
        "    dot.node(node)\n",
        "\n",
        "dot.edges(petersen_links)\n",
        "dot.engine = 'neato'\n",
        "dot.render('test-output/graph', format='png', view=True)\n",
        "#Image(\"../test-output/graph.png\")"
      ]
    },
    {
      "cell_type": "code",
      "execution_count": 2,
      "metadata": {},
      "outputs": [
        {
          "output_type": "error",
          "ename": "NameError",
          "evalue": "name 'Graph' is not defined",
          "traceback": [
            "\u001b[1;31m---------------------------------------------------------------------------\u001b[0m",
            "\u001b[1;31mNameError\u001b[0m                                 Traceback (most recent call last)",
            "\u001b[1;32m<ipython-input-2-6bed9f06f3f7>\u001b[0m in \u001b[0;36m<module>\u001b[1;34m\u001b[0m\n\u001b[1;32m----> 1\u001b[1;33m \u001b[0mdot\u001b[0m \u001b[1;33m=\u001b[0m \u001b[0mGraph\u001b[0m\u001b[1;33m(\u001b[0m\u001b[0mcomment\u001b[0m\u001b[1;33m=\u001b[0m\u001b[1;34m'Complement Petersen Graph'\u001b[0m\u001b[1;33m)\u001b[0m\u001b[1;33m\u001b[0m\u001b[1;33m\u001b[0m\u001b[0m\n\u001b[0m\u001b[0;32m      2\u001b[0m \u001b[0mc_petersen_nodes\u001b[0m \u001b[1;33m=\u001b[0m \u001b[1;33m[\u001b[0m\u001b[1;34m'a'\u001b[0m\u001b[1;33m,\u001b[0m \u001b[1;34m'b'\u001b[0m\u001b[1;33m,\u001b[0m \u001b[1;34m'c'\u001b[0m\u001b[1;33m,\u001b[0m \u001b[1;34m'd'\u001b[0m\u001b[1;33m,\u001b[0m \u001b[1;34m'e'\u001b[0m\u001b[1;33m,\u001b[0m \u001b[1;34m'f'\u001b[0m\u001b[1;33m,\u001b[0m \u001b[1;34m'g'\u001b[0m\u001b[1;33m,\u001b[0m \u001b[1;34m'h'\u001b[0m\u001b[1;33m,\u001b[0m \u001b[1;34m'i'\u001b[0m\u001b[1;33m,\u001b[0m \u001b[1;34m'j'\u001b[0m\u001b[1;33m]\u001b[0m\u001b[1;33m\u001b[0m\u001b[1;33m\u001b[0m\u001b[0m\n\u001b[0;32m      3\u001b[0m \u001b[0mpetersen_links\u001b[0m \u001b[1;33m=\u001b[0m \u001b[1;33m[\u001b[0m\u001b[1;34m'ab'\u001b[0m\u001b[1;33m,\u001b[0m \u001b[1;34m'af'\u001b[0m\u001b[1;33m,\u001b[0m \u001b[1;34m'ae'\u001b[0m\u001b[1;33m,\u001b[0m \u001b[1;34m'bg'\u001b[0m\u001b[1;33m,\u001b[0m \u001b[1;34m'bc'\u001b[0m\u001b[1;33m,\u001b[0m \u001b[1;34m'ch'\u001b[0m\u001b[1;33m,\u001b[0m \u001b[1;34m'cd'\u001b[0m\u001b[1;33m,\u001b[0m \u001b[1;34m'di'\u001b[0m\u001b[1;33m,\u001b[0m \u001b[1;34m'de'\u001b[0m\u001b[1;33m,\u001b[0m \u001b[1;34m'ej'\u001b[0m\u001b[1;33m,\u001b[0m \u001b[1;34m'fh'\u001b[0m\u001b[1;33m,\u001b[0m \u001b[1;34m'fi'\u001b[0m\u001b[1;33m,\u001b[0m \u001b[1;34m'gj'\u001b[0m\u001b[1;33m,\u001b[0m \u001b[1;34m'gi'\u001b[0m\u001b[1;33m,\u001b[0m \u001b[1;34m'hj'\u001b[0m\u001b[1;33m]\u001b[0m\u001b[1;33m\u001b[0m\u001b[1;33m\u001b[0m\u001b[0m\n\u001b[0;32m      4\u001b[0m \u001b[0mall_links\u001b[0m \u001b[1;33m=\u001b[0m \u001b[1;33m[\u001b[0m\u001b[1;33m]\u001b[0m\u001b[1;33m\u001b[0m\u001b[1;33m\u001b[0m\u001b[0m\n\u001b[0;32m      5\u001b[0m \u001b[0mc_petersen_links\u001b[0m \u001b[1;33m=\u001b[0m \u001b[1;33m[\u001b[0m\u001b[1;33m]\u001b[0m\u001b[1;33m\u001b[0m\u001b[1;33m\u001b[0m\u001b[0m\n",
            "\u001b[1;31mNameError\u001b[0m: name 'Graph' is not defined"
          ]
        }
      ],
      "source": [
        "dot = Graph(comment='Complement Petersen Graph')\n",
        "c_petersen_nodes = ['a', 'b', 'c', 'd', 'e', 'f', 'g', 'h', 'i', 'j']\n",
        "petersen_links = ['ab', 'af', 'ae', 'bg', 'bc', 'ch', 'cd', 'di', 'de', 'ej', 'fh', 'fi', 'gj', 'gi', 'hj']\n",
        "all_links = []\n",
        "c_petersen_links = []\n",
        "\n",
        "# some messy code to generate the complementary edges\n",
        "for nodeA in petersen_nodes:\n",
        "    for nodeB in petersen_nodes:\n",
        "        if nodeA != nodeB and nodeB + nodeA not in all_links:\n",
        "            all_links.append(nodeA + nodeB)\n",
        "\n",
        "for link in all_links:\n",
        "    if link not in petersen_links:\n",
        "        c_petersen_links.append(link)\n",
        "print(c_petersen_links)\n",
        "\n",
        "for node in petersen_nodes:\n",
        "    dot.node(node)\n",
        "\n",
        "dot.edges(c_petersen_links)\n",
        "dot.engine = 'neato'\n",
        "dot.render('test-output/graph', view=True)\n",
        "#display(Image(\"/content/test-output/graph.png\"))"
      ]
    },
    {
      "cell_type": "code",
      "execution_count": null,
      "metadata": {},
      "outputs": [],
      "source": []
    }
  ]
}