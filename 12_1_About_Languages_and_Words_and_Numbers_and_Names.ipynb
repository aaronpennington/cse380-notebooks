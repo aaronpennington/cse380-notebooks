{
  "nbformat": 4,
  "nbformat_minor": 0,
  "metadata": {
    "colab": {
      "name": "12_1_About_Languages_and_Words_and_Numbers_and_Names.ipynb",
      "provenance": [],
      "authorship_tag": "ABX9TyNTjhD9eeepKOr3YCiGUWxR",
      "include_colab_link": true
    },
    "kernelspec": {
      "name": "python3",
      "display_name": "Python 3"
    },
    "language_info": {
      "name": "python"
    }
  },
  "cells": [
    {
      "cell_type": "markdown",
      "metadata": {
        "id": "view-in-github",
        "colab_type": "text"
      },
      "source": [
        "<a href=\"https://colab.research.google.com/github/byui-cse/cse380-notebooks/blob/master/12_1_About_Languages_and_Words_and_Numbers_and_Names.ipynb\" target=\"_parent\"><img src=\"https://colab.research.google.com/assets/colab-badge.svg\" alt=\"Open In Colab\"/></a>"
      ]
    },
    {
      "cell_type": "markdown",
      "metadata": {
        "id": "VOSJHQqL9Riu"
      },
      "source": [
        "# About Languages and Words and Numbers and Names\n",
        "## Divide Pair Conquer\n",
        "### Due: Monday, 22 March 2021, 11:59 pm"
      ]
    },
    {
      "cell_type": "markdown",
      "metadata": {
        "id": "0VOWtC5G9fco"
      },
      "source": [
        "## Let's Discuss Language In General"
      ]
    },
    {
      "cell_type": "markdown",
      "metadata": {
        "id": "4MJfFItwsSzF"
      },
      "source": [
        "What IS Language?\n",
        "\n",
        "A (human) language has three elements:\n",
        "1. Meaning --- not conveyed, but called forth.\n",
        "2. Productivity --- you can use the same old words to make new communications.\n",
        "3. Displacement --- you can use language to talk about things that aren't present.\n",
        "\n",
        "Humans enhance productivity by making language *recursive* --- using **rules** to combine individual sounds and words into an infinite number of different sentences with different meanings.\n"
      ]
    },
    {
      "cell_type": "markdown",
      "metadata": {
        "id": "Ghsuh3ovviA1"
      },
      "source": [
        "### English and Programming Languages"
      ]
    },
    {
      "cell_type": "markdown",
      "metadata": {
        "id": "g5dGLqZgvjG9"
      },
      "source": [
        "An undisputed master of language, Edgar Allan Poe once bragged about his Power of Words:\n",
        "\n",
        "> How very commonly we hear it remarked that such and such thoughts are beyond the compass of words! I do not believe that any thought, properly so called, is out of the reach of language. I fancy, rather, that where difficulty in expression is experienced, there is, in the intellect which experiences it, a want either of deliberateness or of method.\n",
        "\n",
        "> For my own part, I have never had a thought which I could not set down in words, with even more distinctness than that with which I conceived it: as I have before observed, the thought is logicalised by the effort at (written) expression.\n",
        "\n",
        "But even Poe would struggle with the ambiguities, paradoxes and contradictions **recursion** (or **self-reference**) creates at the English language level.\n",
        "\n",
        "For example:\n",
        "\n",
        "This sentence is false.\n",
        "\n",
        "The sentence just below is false.\n",
        "\n",
        "The sentence just above is true.\n",
        "\n",
        "Recall the Use-Mention distinction?\n",
        "\n",
        "Idaho has mountains.\n",
        "\n",
        "(A use of the word.)\n",
        "\n",
        "\"Idaho\" has 5 letters.\n",
        "\n",
        "(A mention of the word.)\n",
        "\n",
        "The so-called \"Quine\" operation makes use of this distinction:\n",
        "\n",
        "\"yields falsehood when preceded by its quotation\"\n",
        "yields falsehood when preceded by its quotation\n",
        "\n",
        "Quoting Wikipedia:\n",
        "\n",
        "> This operation shows that a sentence can be paradoxical even if it is not self-referring and does not use demonstratives or indexicals.\n",
        "\n",
        "Quoting [an article on which](https://www.rep.routledge.com/articles/thematic/demonstratives-and-indexicals/v-1):\n",
        "\n",
        "> Demonstratives and indexicals are words and phrases whose interpretations are dependent on features of the context in which they are used. For example, the reference of ‘I’ depends on conditions associated with its use: as you use it, it refers to you; as I use it, it refers to me. In contrast, what ‘the inventor of bifocals’ refers to does not depend on when or where or by whom it is used. Among indexicals are the words ‘here’, ‘now’, ‘today’, demonstrative pronouns such as ‘this’, reflexive, possessive and personal pronouns; and compound phrases employing indexicals, such as ‘my mother’. C.S. Peirce introduced the term ‘indexical’ to suggest the idea of pointing (as in ‘index finger’).\n",
        "\n",
        "\"is a sentence fragment\" is a sentence fragment\n",
        "\n",
        "This sentence no verb.\n",
        "\n",
        "This sentence has six words.\n",
        "\n",
        "How about quining in a high-level programming language?\n",
        "\n",
        "\n",
        "\n",
        "\n",
        "\n"
      ]
    },
    {
      "cell_type": "code",
      "metadata": {
        "id": "4Apx96dIx4KR"
      },
      "source": [
        "!echo -n 'main(){char *c=\"main(){char *c=%c%s%c;printf(c,34,c,34);}\";printf(c,34,c,34);}' > quine.c; cc -w quine.c; ./a.out | diff - quine.c"
      ],
      "execution_count": 135,
      "outputs": []
    },
    {
      "cell_type": "markdown",
      "metadata": {
        "id": "k2q6zKC5yOZ_"
      },
      "source": [
        "This only works in Python 3.8 or later:"
      ]
    },
    {
      "cell_type": "markdown",
      "metadata": {
        "id": "1XJ85pJ_yaBv"
      },
      "source": [
        "What about Java?"
      ]
    },
    {
      "cell_type": "code",
      "metadata": {
        "id": "vK-BonVXyVAY"
      },
      "source": [
        "exec(s:='print(\"exec(s:=%r)\"%s)')"
      ],
      "execution_count": null,
      "outputs": []
    },
    {
      "cell_type": "markdown",
      "metadata": {
        "id": "Wi03Xjo-yiNJ"
      },
      "source": [
        "```public class Self{public static void main(String[] args){String s=\"public class Self{public static void main(String[] args){String s=%c%s%c;System.out.printf(s,34,s,34);}}\";System.out.printf(s,34,s,34);}}```"
      ]
    },
    {
      "cell_type": "markdown",
      "metadata": {
        "id": "xU61y-Y-ynpD"
      },
      "source": [
        "How about Lisp?!\n",
        "\n",
        "```((lambda (x) (list x (list 'quote x))) '(lambda (x) (list x (list 'quote x))))```\n",
        "\n"
      ]
    },
    {
      "cell_type": "code",
      "metadata": {
        "id": "DlUCUGKby3AR"
      },
      "source": [
        "!curl https://raw.githubusercontent.com/zqq980/wshift_v2/master/src/hostile/Dupe.java | grep -v package > Dupe.java"
      ],
      "execution_count": null,
      "outputs": []
    },
    {
      "cell_type": "code",
      "metadata": {
        "id": "LbGF6YF7y8ha"
      },
      "source": [
        "!head -20 Dupe.java"
      ],
      "execution_count": null,
      "outputs": []
    },
    {
      "cell_type": "code",
      "metadata": {
        "id": "oqwfB8XyzUlU"
      },
      "source": [
        "!javac Dupe.java"
      ],
      "execution_count": 153,
      "outputs": []
    },
    {
      "cell_type": "code",
      "metadata": {
        "id": "iPRMu01qzYIS"
      },
      "source": [
        "!rm -rf dupedupe && mkdir dupedupe"
      ],
      "execution_count": 155,
      "outputs": []
    },
    {
      "cell_type": "code",
      "metadata": {
        "colab": {
          "base_uri": "https://localhost:8080/"
        },
        "id": "XczjMiz_zbjz",
        "outputId": "f066c3e9-3b4d-4638-edb4-76056c97957a"
      },
      "source": [
        "!cd dupedupe; java -cp .. Dupe"
      ],
      "execution_count": 157,
      "outputs": [
        {
          "output_type": "stream",
          "text": [
            "UNIX and Java viruses do not exist.\n"
          ],
          "name": "stdout"
        }
      ]
    },
    {
      "cell_type": "code",
      "metadata": {
        "id": "BIbMFJHYzhyH"
      },
      "source": [
        "!diff Dupe.java dupedupe/Dupe.java"
      ],
      "execution_count": 159,
      "outputs": []
    },
    {
      "cell_type": "markdown",
      "metadata": {
        "id": "ugpYR2xxzm9a"
      },
      "source": [
        "## TODO Explore and Learn"
      ]
    },
    {
      "cell_type": "markdown",
      "metadata": {
        "id": "sqHV1JYdzqg4"
      },
      "source": [
        "1101121\n",
        "\n",
        "This number has a name:\n",
        "\n",
        "one million, one hundred one thousand, one hundred twenty-one\n",
        "\n",
        "``` 1     2      3     4     5     6       7    8       9    10```\n",
        "\n",
        "It also has this name:\n",
        "\n",
        "*the smallest number not nameable in under ten words*\n",
        "\n",
        " 1     2       3     4     5     6   7     8    9\n",
        "\n",
        "The second name appears to name **in nine words** the smallest number **not nameable** in under ten words!\n",
        "\n",
        "Called the Russell-Berry Paradox, or just the Berry Paradox, this is one of the easier language-referential paradoxes to grasp.\n",
        "\n",
        "\n"
      ]
    },
    {
      "cell_type": "markdown",
      "metadata": {
        "id": "ApVS1Uph0OmX"
      },
      "source": [
        "### TODO Task 1"
      ]
    },
    {
      "cell_type": "markdown",
      "metadata": {
        "id": "6kZrrpj00Pv0"
      },
      "source": [
        "Grapple with this (and related) paradoxes with your partner. Discuss various types of paradoxes you have encountered in your travels."
      ]
    },
    {
      "source": [
        "Hannah Parker\n",
        "\n",
        "Emotional paradoxes: Wanting two conflicting things (I want to do well in school *and* I want to (sometimes) not put in the work required)\n",
        "\n",
        "Wikipedia: \"One example is Russell's paradox, which questions whether a \"list of all lists that do not contain themselves\" would include itself, and showed that attempts to found set theory on the identification of sets with properties or predicates were flawed.\" (https://en.wikipedia.org/wiki/Russell%27s_paradox)\n",
        "\n",
        "\"You can classify all natural numbers as either interesting or non-interesting\" (the smallest uninteresting number then becomes interesting)"
      ],
      "cell_type": "markdown",
      "metadata": {}
    },
    {
      "cell_type": "markdown",
      "metadata": {
        "id": "j7AJHDqQ0UZa"
      },
      "source": [
        "### TODO Task 2"
      ]
    },
    {
      "cell_type": "markdown",
      "metadata": {
        "id": "HsjGFbIs0W9w"
      },
      "source": [
        "Look up and read the Edgar Allan Poe \"prose poem\" *The Power of Words*, and discuss it with your partner. You might even take turns reading out loud, one of you taking the role of Oinos and the other of Agathos.\n",
        "\n",
        "Be prepared to have to look up some words!"
      ]
    },
    {
      "source": [
        "Hannah pointed out how the two characters are discussing the Creation and the paradoxical nature of the subject. \n",
        "\n"
      ],
      "cell_type": "markdown",
      "metadata": {}
    },
    {
      "source": [
        "I didn't fully make this connection until after class when I re-read the poem, but there is a mention of \"secondary creation\". In this context, it is a reference to scientific attempts to create microscopic life. But the term brought to my mind the topic of \"subcreation\", which is a term referring to a philosophy of the author J.R.R. Tolkien. \n",
        "\n",
        "Tolkien is famous for his detailed and intricate worldbuilding. As a Christian, he believed God to be the ultimate creator, but also that men had the power to be \"little makers\". In fact, Tolkien writes about this philosophy several times, including in a poem (one of my favorites), titled \"Mythopoeia\". Here's an especially relevant excerpt: \n",
        "\n",
        "> The heart of man is not compound of lies,\n",
        "\n",
        "> but draws some wisdom from the only Wise,\n",
        "\n",
        "> and still recalls him. Though now long estranged,\n",
        "\n",
        "> man is not wholly lost nor wholly changed.\n",
        "\n",
        "> Disgraced he may be, yet is not dethroned,\n",
        "\n",
        "> and keeps the rags of lordship one he owned,\n",
        "\n",
        "> his world-dominion by creative act:\n",
        "\n",
        "> not his to worship the great Artefact,\n",
        "\n",
        "> **man, sub-creator, the refracted light**\n",
        "\n",
        "> **through whom is splintered from a single White**\n",
        "\n",
        "> **to many hues, and endlessly combined**\n",
        "\n",
        "> **in living shapes that move from mind to mind.**\n",
        "\n",
        "> Though all the crannies of the world we filled\n",
        "\n",
        "> with elves and goblins, though we dared to build\n",
        "\n",
        "> gods and their houses out of dark and light,\n",
        "\n",
        "> and sow the seed of dragons, 'twas our right\n",
        "\n",
        "> (used or misused). The right has not decayed.\n",
        "\n",
        "> We make still by the law in which we're made.\n",
        "\n",
        "To Tolkien, the stories he told and myths he wrote about were not lies. They are *true* and *real*. Not because you can go out and find a hobbit in the woods of England, but because that same creation power used to create us is refracted through men to subcreate these stories. If the pure light in which we are made is true, then the refracted light which we use to create must also be true, at least partially. \n",
        "\n",
        "The creative paradox of mortality (wanting to **make** but lacking the power to **create**), is resolved - both in our own theology and Edgar Allen Poe's poetry - in the eternities, wherein men can become creators. \n",
        "\n",
        "Ultimately, Tolkien has some very interesting thoughts about this concept, which I cannot do justice on my own. The following resources give a better idea about the topic, for anyone interested:\n",
        "\n",
        "[Mythopoeia](http://home.agh.edu.pl/~evermind/jrrtolkien/mythopoeia.htm)\n",
        "\n",
        "[On Fairy Stories](https://coolcalvary.files.wordpress.com/2018/10/on-fairy-stories1.pdf), an essay by Tolkien about subcreation and eucatastrophe, which includes very interesting Gospel themes. \n",
        "\n",
        "[Leaf by Niggle](http://wp.lps.org/mpayant/files/2010/08/LEAF-BY-NIGGLE.pdf), a short story by Tolkien with subcreative themes. \n",
        "\n",
        "[Tolkien Professor Podcast, Episode on Mythopoeia](https://tolkienprof.fireside.fm/20), or any of the other lectures from the first few weeks of the same course (https://tolkienprofessor.com/lectures/courses/the-undergraduate-tolkien-survey/). This is a podcast by a professor at Washington College who teaches a course on Tolkien's literary works (not just Lord of the Rings!). "
      ],
      "cell_type": "markdown",
      "metadata": {}
    }
  ]
}