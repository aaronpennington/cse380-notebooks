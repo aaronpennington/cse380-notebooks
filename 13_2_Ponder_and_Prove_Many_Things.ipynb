{
  "nbformat": 4,
  "nbformat_minor": 0,
  "metadata": {
    "colab": {
      "name": "13_2_Ponder_and_Prove_Many_Things.ipynb",
      "provenance": [],
      "authorship_tag": "ABX9TyO8IULuqVjJlvplhZWUq5VK",
      "include_colab_link": true
    },
    "kernelspec": {
      "name": "python3",
      "display_name": "Python 3.9.0 64-bit",
      "metadata": {
        "interpreter": {
          "hash": "5cb4c5a19cdfdb0bed0268ea814c514807ee9e7440f691fbb4fb5e0f945f1cd4"
        }
      }
    },
    "language_info": {
      "name": "python",
      "version": "3.9.0"
    }
  },
  "cells": [
    {
      "cell_type": "markdown",
      "metadata": {
        "id": "view-in-github",
        "colab_type": "text"
      },
      "source": [
        "<a href=\"https://colab.research.google.com/github/byui-cse/cse380-notebooks/blob/master/13_2_Ponder_and_Prove_Many_Things.ipynb\" target=\"_parent\"><img src=\"https://colab.research.google.com/assets/colab-badge.svg\" alt=\"Open In Colab\"/></a>"
      ]
    },
    {
      "cell_type": "markdown",
      "metadata": {
        "id": "0GZOWnts9NAD"
      },
      "source": [
        "# Ponder and Prove Many Things\n",
        "## Due: Thursday, 1 April 2021, 11:59 pm"
      ]
    },
    {
      "cell_type": "markdown",
      "metadata": {
        "id": "S5XdXGMv9dy4"
      },
      "source": [
        "### Is It Decidable?"
      ]
    },
    {
      "cell_type": "markdown",
      "metadata": {
        "id": "Gzy9wIboAVvi"
      },
      "source": [
        "#### TODO Study and run the code below."
      ]
    },
    {
      "cell_type": "markdown",
      "metadata": {
        "id": "218Qmbtx9lP6"
      },
      "source": [
        "And answer these questions:\n",
        "1. What is this program computing?\n",
        "2. How does it do it?\n",
        "3. Will it ever terminate?"
      ]
    },
    {
      "cell_type": "code",
      "metadata": {
        "id": "LfltDFaw9trA"
      },
      "source": [
        "from math import log2\n",
        "\n",
        "def you_decide():\n",
        "  flibbers = [17,78,19,23,29,77,95,77,1,11,13,15,15,55]\n",
        "  flobbers = [91,85,51,38,33,29,23,19,17,13,11,14,2,1]\n",
        "  i = 2\n",
        "  time_keeps_ticking = True\n",
        "  while time_keeps_ticking:\n",
        "    time_keeps_ticking = False\n",
        "    for n in range(len(flibbers)):\n",
        "      f = i * flibbers[n]\n",
        "      if not f % flobbers[n]:\n",
        "        i = f // flobbers[n]\n",
        "        p = log2(i)\n",
        "        if p.is_integer():\n",
        "          print(str(i) + \" == 2**\" + str(p))\n",
        "        time_keeps_ticking = True\n",
        "        break"
      ],
      "execution_count": 6,
      "outputs": []
    },
    {
      "cell_type": "code",
      "metadata": {
        "id": "fGZ9lZCP9xWC"
      },
      "source": [
        "you_decide()"
      ],
      "execution_count": 7,
      "outputs": [
        {
          "output_type": "stream",
          "name": "stdout",
          "text": [
            "4 == 2**2.0\n",
            "8 == 2**3.0\n",
            "32 == 2**5.0\n",
            "128 == 2**7.0\n",
            "2048 == 2**11.0\n",
            "8192 == 2**13.0\n",
            "131072 == 2**17.0\n",
            "524288 == 2**19.0\n",
            "8388608 == 2**23.0\n",
            "536870912 == 2**29.0\n",
            "2147483648 == 2**31.0\n",
            "137438953472 == 2**37.0\n",
            "2199023255552 == 2**41.0\n",
            "8796093022208 == 2**43.0\n",
            "140737488355328 == 2**47.0\n",
            "9007199254740992 == 2**53.0\n",
            "576460752303423488 == 2**59.0\n",
            "2305843009213693952 == 2**61.0\n",
            "147573952589676412928 == 2**67.0\n",
            "2361183241434822606848 == 2**71.0\n",
            "9444732965739290427392 == 2**73.0\n",
            "604462909807314587353088 == 2**79.0\n",
            "9671406556917033397649408 == 2**83.0\n",
            "618970019642690137449562112 == 2**89.0\n",
            "158456325028528675187087900672 == 2**97.0\n",
            "2535301200456458802993406410752 == 2**101.0\n",
            "10141204801825835211973625643008 == 2**103.0\n",
            "162259276829213363391578010288128 == 2**107.0\n",
            "649037107316853453566312041152512 == 2**109.0\n",
            "10384593717069655257060992658440192 == 2**113.0\n",
            "170141183460469231731687303715884105728 == 2**127.0\n",
            "2722258935367507707706996859454145691648 == 2**131.0\n",
            "174224571863520493293247799005065324265472 == 2**137.0\n"
          ]
        },
        {
          "output_type": "error",
          "ename": "KeyboardInterrupt",
          "evalue": "",
          "traceback": [
            "\u001b[1;31m---------------------------------------------------------------------------\u001b[0m",
            "\u001b[1;31mKeyboardInterrupt\u001b[0m                         Traceback (most recent call last)",
            "\u001b[1;32m<ipython-input-7-7e16ef8f7eca>\u001b[0m in \u001b[0;36m<module>\u001b[1;34m\u001b[0m\n\u001b[1;32m----> 1\u001b[1;33m \u001b[0myou_decide\u001b[0m\u001b[1;33m(\u001b[0m\u001b[1;33m)\u001b[0m\u001b[1;33m\u001b[0m\u001b[1;33m\u001b[0m\u001b[0m\n\u001b[0m",
            "\u001b[1;32m<ipython-input-6-8a2f826f92e0>\u001b[0m in \u001b[0;36myou_decide\u001b[1;34m()\u001b[0m\n\u001b[0;32m     10\u001b[0m     \u001b[1;32mfor\u001b[0m \u001b[0mn\u001b[0m \u001b[1;32min\u001b[0m \u001b[0mrange\u001b[0m\u001b[1;33m(\u001b[0m\u001b[0mlen\u001b[0m\u001b[1;33m(\u001b[0m\u001b[0mflibbers\u001b[0m\u001b[1;33m)\u001b[0m\u001b[1;33m)\u001b[0m\u001b[1;33m:\u001b[0m\u001b[1;33m\u001b[0m\u001b[1;33m\u001b[0m\u001b[0m\n\u001b[0;32m     11\u001b[0m       \u001b[0mf\u001b[0m \u001b[1;33m=\u001b[0m \u001b[0mi\u001b[0m \u001b[1;33m*\u001b[0m \u001b[0mflibbers\u001b[0m\u001b[1;33m[\u001b[0m\u001b[0mn\u001b[0m\u001b[1;33m]\u001b[0m\u001b[1;33m\u001b[0m\u001b[1;33m\u001b[0m\u001b[0m\n\u001b[1;32m---> 12\u001b[1;33m       \u001b[1;32mif\u001b[0m \u001b[1;32mnot\u001b[0m \u001b[0mf\u001b[0m \u001b[1;33m%\u001b[0m \u001b[0mflobbers\u001b[0m\u001b[1;33m[\u001b[0m\u001b[0mn\u001b[0m\u001b[1;33m]\u001b[0m\u001b[1;33m:\u001b[0m\u001b[1;33m\u001b[0m\u001b[1;33m\u001b[0m\u001b[0m\n\u001b[0m\u001b[0;32m     13\u001b[0m         \u001b[0mi\u001b[0m \u001b[1;33m=\u001b[0m \u001b[0mf\u001b[0m \u001b[1;33m//\u001b[0m \u001b[0mflobbers\u001b[0m\u001b[1;33m[\u001b[0m\u001b[0mn\u001b[0m\u001b[1;33m]\u001b[0m\u001b[1;33m\u001b[0m\u001b[1;33m\u001b[0m\u001b[0m\n\u001b[0;32m     14\u001b[0m         \u001b[0mp\u001b[0m \u001b[1;33m=\u001b[0m \u001b[0mlog2\u001b[0m\u001b[1;33m(\u001b[0m\u001b[0mi\u001b[0m\u001b[1;33m)\u001b[0m\u001b[1;33m\u001b[0m\u001b[1;33m\u001b[0m\u001b[0m\n",
            "\u001b[1;31mKeyboardInterrupt\u001b[0m: "
          ]
        }
      ]
    },
    {
      "source": [
        "1. This program is computing primes. \n",
        "\n",
        "2. Each value i printed is 2**log2(i).\n",
        "\n",
        "3. The program will not terminate. This is because the code is doing a modulous of 1 to determine if it will continue. Since 1 % x == 1, where x is a positive integer, the while loop will never exit. "
      ],
      "cell_type": "markdown",
      "metadata": {}
    },
    {
      "cell_type": "markdown",
      "metadata": {
        "id": "oqZ3784B-EyX"
      },
      "source": [
        "### Fun With Decidability"
      ]
    },
    {
      "cell_type": "markdown",
      "metadata": {
        "id": "aeiVo2WpkySc"
      },
      "source": [
        "#### TODO Read and Share"
      ]
    },
    {
      "cell_type": "markdown",
      "metadata": {
        "id": "i13mpSpd-O39"
      },
      "source": [
        "Read [Can't Decide? Undecide! by Chaim Goodman-Strauss](https://strauss.hosted.uark.edu/papers/decide.pdf)\n",
        "\n",
        "Share six things that you found interesting in this paper.\n",
        "\n",
        "Share six things that you already knew or had heard about before. (These can overlap with the first six.)\n",
        "\n",
        "Write one to two sentences for each of the things you share.\n"
      ]
    },
    {
      "source": [
        "# Six things I found interesting\n",
        "\n",
        "1. Aperiodic tiles\n",
        "\n",
        "2. Fractran program\n",
        "\n",
        "3. Conway's Presumption\n",
        "\n",
        "4. \"though there is some 'reason' they are as they are, in the form of an astoundingly long proof, there cannot be any 'good reason', or understandable, short proof.\"\n",
        "\n",
        "5. Word Ladders\n",
        "\n",
        "6. Post Correspondance Problem\n",
        "\n",
        "# Six things I already knew\n",
        "\n",
        "1. Isohedral numbers\n",
        "\n",
        "2. Halting Problem (from this weeks work)\n",
        "\n",
        "3. NP-hard problems, such as the Travelling Salesman Problem.\n",
        "\n",
        "4. Conway's Game of Life\n",
        "\n",
        "5. Word Ladders, which I've heard of but never really considered as a sort of mathematics before. \n",
        "\n",
        "6. Collatz functions"
      ],
      "cell_type": "markdown",
      "metadata": {}
    },
    {
      "cell_type": "markdown",
      "metadata": {
        "id": "gjeWZ0Mo-r6E"
      },
      "source": [
        "### The Map of Mathematics"
      ]
    },
    {
      "cell_type": "markdown",
      "metadata": {
        "id": "xFFVrRTl-wY9"
      },
      "source": [
        "[The entire field of mathematics summarized in a single map!](https://www.youtube.com/watch?v=OmJ-4B-mS-Y) --- direct link, or embedded below.\n",
        "\n",
        "This video shows how pure mathematics and applied mathematics relate to each other and all of the sub-topics they are made from."
      ]
    },
    {
      "cell_type": "code",
      "metadata": {
        "id": "Wd_Ny-gS-zpk"
      },
      "source": [
        "from IPython.display import YouTubeVideo\n",
        "YouTubeVideo('OmJ-4B-mS-Y') # 11 minutes 5 seconds"
      ],
      "execution_count": null,
      "outputs": []
    },
    {
      "cell_type": "markdown",
      "metadata": {
        "id": "8PD-pimc-1dk"
      },
      "source": [
        "#### TODO Watch and Share"
      ]
    },
    {
      "cell_type": "markdown",
      "metadata": {
        "id": "9WIEkJ0p-9JD"
      },
      "source": [
        "Share six things that you found interesting in this video.\n",
        "\n",
        "Share six things that you already knew or had heard about before. (These can overlap with the first six.)\n",
        "\n",
        "Write one to two sentences for each of the things you share.\n"
      ]
    },
    {
      "cell_type": "markdown",
      "metadata": {
        "id": "nfxMo9bl_TZA"
      },
      "source": [
        "### The Map of Computer Science"
      ]
    },
    {
      "cell_type": "markdown",
      "metadata": {
        "id": "bM9Dst0d_tIW"
      },
      "source": [
        "[The field of computer science similarly summarized.](https://www.youtube.com/watch?v=SzJ46YA_RaA) --- direct link, or embedded below."
      ]
    },
    {
      "cell_type": "code",
      "metadata": {
        "id": "LnBJvrbi_xIp"
      },
      "source": [
        "from IPython.display import YouTubeVideo\n",
        "YouTubeVideo('SzJ46YA_RaA') # 10 minutes 57 seconds"
      ],
      "execution_count": null,
      "outputs": []
    },
    {
      "cell_type": "markdown",
      "metadata": {
        "id": "5194ShLd_zjU"
      },
      "source": [
        "#### TODO Watch and Share"
      ]
    },
    {
      "cell_type": "markdown",
      "metadata": {
        "id": "zTI_XHCU_1HW"
      },
      "source": [
        "Share six things that you found interesting in this video.\n",
        "\n",
        "Share six things that you already knew or had heard about before. (These can overlap with the first six.)\n",
        "\n",
        "Write one to two sentences for each of the things you share."
      ]
    },
    {
      "cell_type": "markdown",
      "metadata": {
        "id": "fPu3fWgR_3hI"
      },
      "source": [
        "### SKIP Report"
      ]
    },
    {
      "cell_type": "markdown",
      "metadata": {
        "id": "JoO9lagO_5lt"
      },
      "source": [
        "The sentences you have already (supposedly) written will suffice."
      ]
    },
    {
      "cell_type": "markdown",
      "metadata": {
        "id": "shpEERFS_87F"
      },
      "source": [
        "### SKIP Self-Assessment"
      ]
    },
    {
      "cell_type": "markdown",
      "metadata": {
        "id": "yWvKYeqc__bX"
      },
      "source": [
        "Instead, you will have ilearn peer reviews to complete."
      ]
    }
  ]
}