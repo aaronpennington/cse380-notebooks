{
  "nbformat": 4,
  "nbformat_minor": 0,
  "metadata": {
    "orig_nbformat": 2,
    "colab": {
      "name": "14_1_My_Final_Grade_Claim_for_W21.ipynb",
      "provenance": [],
      "include_colab_link": true
    },
    "language_info": {
      "name": "python"
    },
    "kernelspec": {
      "name": "python3",
      "display_name": "Python 3"
    }
  },
<<<<<<< HEAD
  "orig_nbformat": 2
 },
 "nbformat": 4,
 "nbformat_minor": 2,
 "cells": [
  {
   "source": [
    "![grade_claim_flowchart.png](grade_claim_flowchart.png)"
   ],
   "cell_type": "markdown",
   "metadata": {}
  },
  {
   "source": [
    "Link to \n",
    "\n",
    "[12_1](https://colab.research.google.com/github/aaronpennington/cse380-notebooks/blob/master/12_1_About_Languages_and_Words_and_Numbers_and_Names.ipynb#scrollTo=aIWexu5qDShi)\n",
    "\n",
    "[10_3](https://colab.research.google.com/github/aaronpennington/cse380-notebooks/blob/master/10_3_About_Patterns_and_Probabilities.ipynb#scrollTo=PnMvbCznDkkr&line=2&uniqifier=1)\n",
    "\n",
    "[13_3](https://colab.research.google.com/github/aaronpennington/cse380-notebooks/blob/master/13_3_About_The_Word_Problem.ipynb#scrollTo=QQtSwRPiDtZU)"
   ],
   "cell_type": "markdown",
   "metadata": {}
  }
 ]
=======
  "cells": [
    {
      "cell_type": "markdown",
      "metadata": {
        "id": "view-in-github",
        "colab_type": "text"
      },
      "source": [
        "<a href=\"https://colab.research.google.com/github/aaronpennington/cse380-notebooks/blob/master/14_1_My_Final_Grade_Claim_for_W21.ipynb\" target=\"_parent\"><img src=\"https://colab.research.google.com/assets/colab-badge.svg\" alt=\"Open In Colab\"/></a>"
      ]
    },
    {
      "cell_type": "markdown",
      "metadata": {
        "id": "ncY9AslGDRUV"
      },
      "source": [
        "![grade_claim_flowchart.png](https://github.com/aaronpennington/cse380-notebooks/blob/master/grade_claim_flowchart.png?raw=1)"
      ]
    },
    {
      "cell_type": "markdown",
      "metadata": {
        "id": "wImmj-VQDRUa"
      },
      "source": [
        "Link to \n",
        "\n",
        "[12_1](https://colab.research.google.com/github/aaronpennington/cse380-notebooks/blob/master/12_1_About_Languages_and_Words_and_Numbers_and_Names.ipynb#scrollTo=aIWexu5qDShi)\n",
        "\n",
        "[10_3](https://colab.research.google.com/github/aaronpennington/cse380-notebooks/blob/master/10_3_About_Patterns_and_Probabilities.ipynb#scrollTo=PnMvbCznDkkr&line=2&uniqifier=1)\n",
        "\n",
        "[13_3](https://colab.research.google.com/github/aaronpennington/cse380-notebooks/blob/master/13_3_About_The_Word_Problem.ipynb#scrollTo=QQtSwRPiDtZU)"
      ]
    },
    {
      "cell_type": "code",
      "metadata": {
        "id": "Leld02rVEDl_"
      },
      "source": [
        ""
      ],
      "execution_count": null,
      "outputs": []
    }
  ]
>>>>>>> 2da42ab6487bb6d3494b28fdfdf6daf76e44735e
}