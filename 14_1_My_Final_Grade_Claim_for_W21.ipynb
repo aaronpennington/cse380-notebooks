{
 "metadata": {
  "language_info": {
   "codemirror_mode": {
    "name": "ipython",
    "version": 3
   },
   "file_extension": ".py",
   "mimetype": "text/x-python",
   "name": "python",
   "nbconvert_exporter": "python",
   "pygments_lexer": "ipython3",
   "version": 3
  },
  "orig_nbformat": 2
 },
 "nbformat": 4,
 "nbformat_minor": 2,
 "cells": [
  {
   "source": [
    "![grade_claim_flowchart.png](grade_claim_flowchart.png)"
   ],
   "cell_type": "markdown",
   "metadata": {}
  },
  {
   "source": [
    "Link to \n",
    "\n",
    "[12_1: TODO Task 2, some thoughts on creativity, paradoxes, and the Gospel](https://colab.research.google.com/github/aaronpennington/cse380-notebooks/blob/master/12_1_About_Languages_and_Words_and_Numbers_and_Names.ipynb#scrollTo=aIWexu5qDShi)\n",
    "\n",
    "[10_3: TODO Find closed-form formulas, comparisons on probabilites found with recursive functions](https://colab.research.google.com/github/aaronpennington/cse380-notebooks/blob/master/10_3_About_Patterns_and_Probabilities.ipynb#scrollTo=PnMvbCznDkkr&line=2&uniqifier=1)\n",
    "\n",
    "[13_3: TODO Try Some, creating my own Word Problem](https://colab.research.google.com/github/aaronpennington/cse380-notebooks/blob/master/13_3_About_The_Word_Problem.ipynb#scrollTo=QQtSwRPiDtZU)"
   ],
   "cell_type": "markdown",
   "metadata": {}
  }
 ]
}