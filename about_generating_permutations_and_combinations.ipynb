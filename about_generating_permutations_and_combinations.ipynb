{
 "cells": [
  {
   "cell_type": "markdown",
   "metadata": {},
   "source": [
    "# About Generating Permutations and Combinations\n",
    "## Divide Pair Conquer\n",
    "### Due: Monday, 1 February 2021, 11:59pm\n"
   ]
  },
  {
   "cell_type": "markdown",
   "metadata": {},
   "source": [
    "There are many occasions when you need to *generate* the permutations or\n",
    "combinations of a set, not just count them.\n",
    "\n",
    "There are many algorithms for generating permutations and combinations --- you\n",
    "can find them if you look.\n",
    "\n",
    "For an application, from a biographical sketch about Donald Knuth by Kenneth\n",
    "Rosen, we learn that\n"
   ]
  },
  {
   "cell_type": "markdown",
   "metadata": {},
   "source": [
    "> \"Knuth grew up in Milwaukee, where his father taught bookkeeping at a Lutheran\n",
    "high school and owned a small printing business. He was an excellent student,\n",
    "earning academic achievement awards. He applied his intelligence in\n",
    "unconventional ways, winning a contest when he was in the eighth grade by\n",
    "finding as many words as possible that could be formed from the letters in\n",
    "\n",
    "---\n",
    "\n",
    "> **Ziegler's Giant Bar**.\n",
    "\n",
    "___\n",
    "\n",
    "> This won a television set for his school and a candy bar for everyone in his class.\n"
   ]
  },
  {
   "cell_type": "markdown",
   "metadata": {},
   "source": [
    "Knuth found over 4500 words. How many can **you** find?"
   ]
  },
  {
   "source": [
    "This first code snippet uses mathematical formulas to calculate the number of \"words\" that could potentially be found. However, these \"words\" include nonsense jumbles of letters that would not be found in an English dictionary. "
   ],
   "cell_type": "markdown",
   "metadata": {}
  },
  {
   "cell_type": "code",
   "execution_count": 4,
   "metadata": {
    "tags": []
   },
   "outputs": [
    {
     "output_type": "stream",
     "name": "stdout",
     "text": [
      "35951249665216\n"
     ]
    }
   ],
   "source": [
    "from itertools import combinations, permutations\n",
    "from math import factorial\n",
    "\n",
    "challenge = \"zieglersgiantbar\"\n",
    "\n",
    "# assuming nonsense words, we can do a combination of the 16 letters\n",
    "\n",
    "# N!/(N-K)!K!\n",
    "\n",
    "def permutation(n, r):\n",
    "    return factorial(n) // factorial(n-r)\n",
    "\n",
    "def combination(n, k):\n",
    "    return factorial(n) // (factorial(n-k) * factorial(k))\n",
    "\n",
    "words = 0\n",
    "for r in range(1, len(challenge)):\n",
    "    words += permutation(16, r)\n",
    "print(words)\n"
   ]
  },
  {
   "cell_type": "code",
   "execution_count": 1,
   "metadata": {},
   "outputs": [],
   "source": [
    "import copy\n",
    "\n",
    "letters = ['z','i','e','g','l','e','r','s','g','i','a','n','t','b','a','r']\n",
    "\n",
    "def is_word(word):\n",
    "    letters_copy = copy.deepcopy(letters)\n",
    "    for letter in word:\n",
    "        if (letter in letters_copy):\n",
    "            letters_copy.remove(letter)\n",
    "        else:\n",
    "            return False\n",
    "    return True\n"
   ]
  },
  {
   "cell_type": "code",
   "execution_count": 2,
   "metadata": {},
   "outputs": [
    {
     "output_type": "stream",
     "name": "stdout",
     "text": [
      "2668\n"
     ]
    }
   ],
   "source": [
    "from nltk.corpus import words\n",
    "\n",
    "word_list = words.words()\n",
    "count = 0\n",
    "\n",
    "for word in word_list:\n",
    "    if (is_word(word)):\n",
    "        count += 1\n",
    "\n",
    "# prints 2668\n",
    "print(count)\n",
    "\n"
   ]
  },
  {
   "source": [
    "The above code will find 2668 words, which is significantly less than the 4500 found by Knuth. It may be possible to find more words by using a larger dictionary or a better algorithm. "
   ],
   "cell_type": "markdown",
   "metadata": {}
  }
 ],
 "metadata": {
  "kernelspec": {
   "name": "python3",
   "display_name": "Python 3.9.0 64-bit",
   "metadata": {
    "interpreter": {
     "hash": "5cb4c5a19cdfdb0bed0268ea814c514807ee9e7440f691fbb4fb5e0f945f1cd4"
    }
   }
  },
  "language_info": {
   "codemirror_mode": {
    "name": "ipython",
    "version": 3
   },
   "file_extension": ".py",
   "mimetype": "text/x-python",
   "name": "python",
   "nbconvert_exporter": "python",
   "pygments_lexer": "ipython3",
   "version": "3.9.0-final"
  }
 },
 "nbformat": 4,
 "nbformat_minor": 4
}